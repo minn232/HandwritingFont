{
 "cells": [
  {
   "cell_type": "code",
   "execution_count": 2,
   "metadata": {},
   "outputs": [],
   "source": [
    "import warnings\n",
    "warnings.filterwarnings(\"ignore\")\n",
    "\n",
    "import torch\n",
    "import torchvision\n",
    "import torch.nn as nn\n",
    "import torch.optim as optim\n",
    "import torch.nn.functional as F\n",
    "from torch.autograd import Variable\n",
    "from torch.utils.data import DataLoader, TensorDataset\n",
    "\n",
    "from utils import scale_back, merge, save_concat_images\n",
    "from dataset import TrainDataProvider, InjectDataProvider, NeverEndingLoopingProvider\n",
    "from ops import conv2d, deconv2d, lrelu, fc, batch_norm\n",
    "from ops import init_embedding, embedding_lookup, conditional_instance_norm"
   ]
  },
  {
   "cell_type": "code",
   "execution_count": 8,
   "metadata": {},
   "outputs": [],
   "source": [
    "img_dim = 2\n",
    "img_size = 64\n",
    "batch_size = 32"
   ]
  },
  {
   "cell_type": "code",
   "execution_count": 9,
   "metadata": {},
   "outputs": [],
   "source": [
    "class Encoder(nn.Module):\n",
    "    \n",
    "    def __init__(self, img_dim=2, conv_dim=64):\n",
    "        super(Encoder, self).__init__()\n",
    "        self.conv1 = conv2d(img_dim, conv_dim)\n",
    "        self.conv2 = conv2d(conv_dim, conv_dim*2)\n",
    "        self.conv3 = conv2d(conv_dim*2, conv_dim*4)\n",
    "        self.conv4 = conv2d(conv_dim*4, conv_dim*8)\n",
    "        self.conv5 = conv2d(conv_dim*8, conv_dim*8)\n",
    "        self.conv6 = conv2d(conv_dim*8, conv_dim*8)\n",
    "        self.conv7 = conv2d(conv_dim*8, conv_dim*8)\n",
    "        self.conv8 = conv2d(conv_dim*8, conv_dim*8)\n",
    "    \n",
    "    def forward(self, images):\n",
    "        encode_layers = dict()\n",
    "        \n",
    "        e1 = self.conv1(images)\n",
    "        encode_layers['e1'] = e1\n",
    "        e2 = self.conv2(e1)\n",
    "        encode_layers['e2'] = e2\n",
    "        e3 = self.conv3(e2)\n",
    "        encode_layers['e3'] = e3\n",
    "        e4 = self.conv4(e3)\n",
    "        encode_layers['e4'] = e4\n",
    "        e5 = self.conv5(e4)\n",
    "        encode_layers['e5'] = e5\n",
    "        e6 = self.conv6(e5)\n",
    "        encode_layers['e6'] = e6\n",
    "        e7 = self.conv7(e6)\n",
    "        encode_layers['e7'] = e7\n",
    "        encoded_images = self.conv8(e7)\n",
    "        encode_layers['e8'] = encoded_images\n",
    "        \n",
    "        return encoded_images, encode_layers"
   ]
  },
  {
   "cell_type": "code",
   "execution_count": 10,
   "metadata": {},
   "outputs": [
    {
     "data": {
      "text/plain": [
       "Encoder(\n",
       "  (conv1): Sequential(\n",
       "    (0): Conv2d(2, 64, kernel_size=(5, 5), stride=(2, 2), padding=(2, 2))\n",
       "    (1): BatchNorm2d(64, eps=1e-05, momentum=0.1, affine=True, track_running_stats=True)\n",
       "    (2): LeakyReLU(negative_slope=0.2)\n",
       "  )\n",
       "  (conv2): Sequential(\n",
       "    (0): Conv2d(64, 128, kernel_size=(5, 5), stride=(2, 2), padding=(2, 2))\n",
       "    (1): BatchNorm2d(128, eps=1e-05, momentum=0.1, affine=True, track_running_stats=True)\n",
       "    (2): LeakyReLU(negative_slope=0.2)\n",
       "  )\n",
       "  (conv3): Sequential(\n",
       "    (0): Conv2d(128, 256, kernel_size=(5, 5), stride=(2, 2), padding=(2, 2))\n",
       "    (1): BatchNorm2d(256, eps=1e-05, momentum=0.1, affine=True, track_running_stats=True)\n",
       "    (2): LeakyReLU(negative_slope=0.2)\n",
       "  )\n",
       "  (conv4): Sequential(\n",
       "    (0): Conv2d(256, 512, kernel_size=(5, 5), stride=(2, 2), padding=(2, 2))\n",
       "    (1): BatchNorm2d(512, eps=1e-05, momentum=0.1, affine=True, track_running_stats=True)\n",
       "    (2): LeakyReLU(negative_slope=0.2)\n",
       "  )\n",
       "  (conv5): Sequential(\n",
       "    (0): Conv2d(512, 512, kernel_size=(5, 5), stride=(2, 2), padding=(2, 2))\n",
       "    (1): BatchNorm2d(512, eps=1e-05, momentum=0.1, affine=True, track_running_stats=True)\n",
       "    (2): LeakyReLU(negative_slope=0.2)\n",
       "  )\n",
       "  (conv6): Sequential(\n",
       "    (0): Conv2d(512, 512, kernel_size=(5, 5), stride=(2, 2), padding=(2, 2))\n",
       "    (1): BatchNorm2d(512, eps=1e-05, momentum=0.1, affine=True, track_running_stats=True)\n",
       "    (2): LeakyReLU(negative_slope=0.2)\n",
       "  )\n",
       "  (conv7): Sequential(\n",
       "    (0): Conv2d(512, 512, kernel_size=(5, 5), stride=(2, 2), padding=(2, 2))\n",
       "    (1): BatchNorm2d(512, eps=1e-05, momentum=0.1, affine=True, track_running_stats=True)\n",
       "    (2): LeakyReLU(negative_slope=0.2)\n",
       "  )\n",
       "  (conv8): Sequential(\n",
       "    (0): Conv2d(512, 512, kernel_size=(5, 5), stride=(2, 2), padding=(2, 2))\n",
       "    (1): BatchNorm2d(512, eps=1e-05, momentum=0.1, affine=True, track_running_stats=True)\n",
       "    (2): LeakyReLU(negative_slope=0.2)\n",
       "  )\n",
       ")"
      ]
     },
     "execution_count": 10,
     "metadata": {},
     "output_type": "execute_result"
    }
   ],
   "source": [
    "En = Encoder()\n",
    "En"
   ]
  },
  {
   "cell_type": "code",
   "execution_count": 11,
   "metadata": {},
   "outputs": [],
   "source": [
    "class Decoder(nn.Module):\n",
    "    \n",
    "    def __init__(self, embedded_dim=640, conv_dim=64):\n",
    "        super(Decoder, self).__init__()\n",
    "        self.deconv1 = deconv2d(embedded_dim, conv_dim*8)\n",
    "        self.deconv2 = deconv2d(conv_dim*16, conv_dim*8)\n",
    "        self.deconv3 = deconv2d(conv_dim*16, conv_dim*8, k_size=4, dilation=2)\n",
    "        self.deconv4 = deconv2d(conv_dim*16, conv_dim*8, k_size=5, dilation=2)\n",
    "        self.deconv5 = deconv2d(conv_dim*16, conv_dim*4, k_size=4, dilation=2, stride=2)\n",
    "        self.deconv6 = deconv2d(conv_dim*8, conv_dim*2, k_size=4, dilation=2, stride=2)\n",
    "        self.deconv7 = deconv2d(conv_dim*4, conv_dim*1, k_size=4, dilation=2, stride=2)\n",
    "        self.deconv8 = deconv2d(conv_dim*2, image_dim, k_size=4, dilation=2, stride=2, bn=False)\n",
    "    \n",
    "    \n",
    "    def forward(self, embedded, encode_layers):\n",
    "        decode_layers = dict()\n",
    "        \n",
    "        d1 = self.deconv1(embedded)\n",
    "        d1 = torch.cat((d1, encode_layers['e7']), dim=1)\n",
    "        d2 = self.deconv2(d1)\n",
    "        d2 = torch.cat((d2, encode_layers['e6']), dim=1)\n",
    "        d3 = self.deconv3(d2)\n",
    "        d3 = torch.cat((d3, encode_layers['e5']), dim=1)\n",
    "        d4 = self.deconv4(d3)\n",
    "        d4 = torch.cat((d4, encode_layers['e4']), dim=1)\n",
    "        d5 = self.deconv5(d4)\n",
    "        d5 = torch.cat((d5, encode_layers['e3']), dim=1)\n",
    "        d6 = self.deconv6(d5)\n",
    "        d6 = torch.cat((d6, encode_layers['e2']), dim=1)\n",
    "        d7 = self.deconv7(d6)\n",
    "        d7 = torch.cat((d7, encode_layers['e1']), dim=1)\n",
    "        d8 = self.deconv8(d7)        \n",
    "        fake_images = torch.tanh(d8)\n",
    "        \n",
    "        decode_layers['d1'] = d1\n",
    "        decode_layers['d2'] = d2\n",
    "        decode_layers['d3'] = d3\n",
    "        decode_layers['d4'] = d4\n",
    "        decode_layers['d5'] = d5\n",
    "        decode_layers['d6'] = d6\n",
    "        decode_layers['d7'] = d7\n",
    "        decode_layers['d8'] = d8\n",
    "        \n",
    "        return fake_images, decode_layers"
   ]
  },
  {
   "cell_type": "code",
   "execution_count": 12,
   "metadata": {},
   "outputs": [
    {
     "data": {
      "text/plain": [
       "Decoder(\n",
       "  (deconv1): Sequential(\n",
       "    (0): ConvTranspose2d(640, 512, kernel_size=(3, 3), stride=(1, 1), padding=(1, 1))\n",
       "    (1): BatchNorm2d(512, eps=1e-05, momentum=0.1, affine=True, track_running_stats=True)\n",
       "    (2): Dropout(p=0.5)\n",
       "    (3): LeakyReLU(negative_slope=0.1)\n",
       "  )\n",
       "  (deconv2): Sequential(\n",
       "    (0): ConvTranspose2d(1024, 512, kernel_size=(3, 3), stride=(1, 1), padding=(1, 1))\n",
       "    (1): BatchNorm2d(512, eps=1e-05, momentum=0.1, affine=True, track_running_stats=True)\n",
       "    (2): Dropout(p=0.5)\n",
       "    (3): LeakyReLU(negative_slope=0.1)\n",
       "  )\n",
       "  (deconv3): Sequential(\n",
       "    (0): ConvTranspose2d(1024, 512, kernel_size=(4, 4), stride=(1, 1), padding=(1, 1))\n",
       "    (1): BatchNorm2d(512, eps=1e-05, momentum=0.1, affine=True, track_running_stats=True)\n",
       "    (2): Dropout(p=0.5)\n",
       "    (3): LeakyReLU(negative_slope=0.1)\n",
       "  )\n",
       "  (deconv4): Sequential(\n",
       "    (0): ConvTranspose2d(1024, 512, kernel_size=(5, 5), stride=(1, 1), padding=(1, 1))\n",
       "    (1): BatchNorm2d(512, eps=1e-05, momentum=0.1, affine=True, track_running_stats=True)\n",
       "    (2): Dropout(p=0.5)\n",
       "    (3): LeakyReLU(negative_slope=0.1)\n",
       "  )\n",
       "  (deconv5): Sequential(\n",
       "    (0): ConvTranspose2d(1024, 256, kernel_size=(4, 4), stride=(2, 2), padding=(1, 1))\n",
       "    (1): BatchNorm2d(256, eps=1e-05, momentum=0.1, affine=True, track_running_stats=True)\n",
       "    (2): Dropout(p=0.5)\n",
       "    (3): LeakyReLU(negative_slope=0.1)\n",
       "  )\n",
       "  (deconv6): Sequential(\n",
       "    (0): ConvTranspose2d(512, 128, kernel_size=(4, 4), stride=(2, 2), padding=(1, 1))\n",
       "    (1): BatchNorm2d(128, eps=1e-05, momentum=0.1, affine=True, track_running_stats=True)\n",
       "    (2): Dropout(p=0.5)\n",
       "    (3): LeakyReLU(negative_slope=0.1)\n",
       "  )\n",
       "  (deconv7): Sequential(\n",
       "    (0): ConvTranspose2d(256, 64, kernel_size=(4, 4), stride=(2, 2), padding=(1, 1))\n",
       "    (1): BatchNorm2d(64, eps=1e-05, momentum=0.1, affine=True, track_running_stats=True)\n",
       "    (2): Dropout(p=0.5)\n",
       "    (3): LeakyReLU(negative_slope=0.1)\n",
       "  )\n",
       "  (deconv8): Sequential(\n",
       "    (0): ConvTranspose2d(128, 2, kernel_size=(4, 4), stride=(2, 2), padding=(1, 1))\n",
       "    (1): Dropout(p=0.5)\n",
       "    (2): LeakyReLU(negative_slope=0.1)\n",
       "  )\n",
       ")"
      ]
     },
     "execution_count": 12,
     "metadata": {},
     "output_type": "execute_result"
    }
   ],
   "source": [
    "De = Decoder()\n",
    "De"
   ]
  },
  {
   "cell_type": "code",
   "execution_count": 13,
   "metadata": {},
   "outputs": [],
   "source": [
    "def generator(images, embeddings, embedding_ids):\n",
    "    encoded_images, encode_layers = En(images)\n",
    "    local_embeddings = embedding_lookup(embeddings, embedding_ids)\n",
    "    embedded = torch.cat((e8, local_embeddings), 1)\n",
    "    fake_images, decode_layers = De(embedded, encode_layers)\n",
    "    return fake_images, encoded_images"
   ]
  },
  {
   "cell_type": "code",
   "execution_count": 14,
   "metadata": {},
   "outputs": [],
   "source": [
    "class Discriminator(nn.Module):\n",
    "    def __init__(self, embedding_num, img_dim=2, disc_dim=64):\n",
    "        super(Discriminator, self).__init__()\n",
    "        self.conv1 = conv2d(img_dim, disc_dim, bn=False)\n",
    "        self.conv2 = conv2d(disc_dim, disc_dim*2)\n",
    "        self.conv3 = conv2d(disc_dim*2, disc_dim*4)\n",
    "        self.conv4 = conv2d(disc_dim*4, disc_dim*8, stride=1)\n",
    "        self.fc1 = fc(disc_dim*8*8*8, 1)\n",
    "        self.fc2 = fc(disc_dim*8*8*8, embedding_num)\n",
    "        \n",
    "    def forward(self, images):\n",
    "        h1 = self.conv1(images)\n",
    "        h2 = self.conv2(h1)\n",
    "        h3 = self.conv3(h2)\n",
    "        h4 = self.conv4(h3)\n",
    "        \n",
    "        tf_loss_logit = self.fc1(h4.reshape(batch_size, -1))\n",
    "        tf_loss = torch.sigmoid(tf_loss_logit)\n",
    "        cat_loss = self.fc2(h4.reshape(batch_size, -1))\n",
    "        \n",
    "        return tf_loss, tf_loss_logit, cat_loss"
   ]
  },
  {
   "cell_type": "code",
   "execution_count": 15,
   "metadata": {},
   "outputs": [
    {
     "data": {
      "text/plain": [
       "Discriminator(\n",
       "  (conv1): Sequential(\n",
       "    (0): Conv2d(2, 64, kernel_size=(5, 5), stride=(2, 2), padding=(2, 2))\n",
       "    (1): LeakyReLU(negative_slope=0.2)\n",
       "  )\n",
       "  (conv2): Sequential(\n",
       "    (0): Conv2d(64, 128, kernel_size=(5, 5), stride=(2, 2), padding=(2, 2))\n",
       "    (1): BatchNorm2d(128, eps=1e-05, momentum=0.1, affine=True, track_running_stats=True)\n",
       "    (2): LeakyReLU(negative_slope=0.2)\n",
       "  )\n",
       "  (conv3): Sequential(\n",
       "    (0): Conv2d(128, 256, kernel_size=(5, 5), stride=(2, 2), padding=(2, 2))\n",
       "    (1): BatchNorm2d(256, eps=1e-05, momentum=0.1, affine=True, track_running_stats=True)\n",
       "    (2): LeakyReLU(negative_slope=0.2)\n",
       "  )\n",
       "  (conv4): Sequential(\n",
       "    (0): Conv2d(256, 512, kernel_size=(5, 5), stride=(1, 1), padding=(2, 2))\n",
       "    (1): BatchNorm2d(512, eps=1e-05, momentum=0.1, affine=True, track_running_stats=True)\n",
       "    (2): LeakyReLU(negative_slope=0.2)\n",
       "  )\n",
       "  (fc1): Linear(in_features=32768, out_features=1, bias=True)\n",
       "  (fc2): Linear(in_features=32768, out_features=23, bias=True)\n",
       ")"
      ]
     },
     "execution_count": 15,
     "metadata": {},
     "output_type": "execute_result"
    }
   ],
   "source": [
    "D = Discriminator(embedding_num=23)\n",
    "D"
   ]
  },
  {
   "cell_type": "code",
   "execution_count": null,
   "metadata": {},
   "outputs": [],
   "source": []
  }
 ],
 "metadata": {
  "kernelspec": {
   "display_name": "Python 3",
   "language": "python",
   "name": "python3"
  },
  "language_info": {
   "codemirror_mode": {
    "name": "ipython",
    "version": 3
   },
   "file_extension": ".py",
   "mimetype": "text/x-python",
   "name": "python",
   "nbconvert_exporter": "python",
   "pygments_lexer": "ipython3",
   "version": "3.7.0"
  }
 },
 "nbformat": 4,
 "nbformat_minor": 2
}
