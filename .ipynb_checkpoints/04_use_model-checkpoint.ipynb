{
 "cells": [
  {
   "cell_type": "code",
   "execution_count": 1,
   "metadata": {},
   "outputs": [],
   "source": [
    "import warnings\n",
    "warnings.filterwarnings(\"ignore\")\n",
    "\n",
    "import torch\n",
    "import torchvision\n",
    "import torch.nn as nn\n",
    "import torch.optim as optim\n",
    "import torch.nn.functional as F\n",
    "from torch.autograd import Variable\n",
    "from torch.utils.data import DataLoader, TensorDataset\n",
    "\n",
    "from utils import scale_back, merge, save_concat_images\n",
    "from dataset import TrainDataProvider, InjectDataProvider, NeverEndingLoopingProvider\n",
    "from ops import conv2d, deconv2d, lrelu, fc, batch_norm\n",
    "from ops import init_embedding, embedding_lookup, conditional_instance_norm\n",
    "from models import Encoder, Decoder, Discriminator, Generator\n",
    "import matplotlib.pyplot as plt\n",
    "%matplotlib inline"
   ]
  },
  {
   "cell_type": "code",
   "execution_count": 2,
   "metadata": {},
   "outputs": [
    {
     "name": "stdout",
     "output_type": "stream",
     "text": [
      "unpickled total 86423 examples\n",
      "unpickled total 21677 examples\n",
      "filter by label -> range(0, 47)\n",
      "train examples -> 86423, val examples -> 21677\n",
      "batch size: 32\n",
      "total batches: 2701\n"
     ]
    }
   ],
   "source": [
    "data_dir = './data/'\n",
    "batch_size = 32\n",
    "img_size = 64\n",
    "fonts_num = 47\n",
    "\n",
    "data_provider = TrainDataProvider(data_dir, filter_by=range(fonts_num))\n",
    "total_batches = data_provider.compute_total_batch_num(batch_size)\n",
    "print('batch size:', batch_size)\n",
    "print('total batches:', total_batches)\n",
    "\n",
    "train_batch_iter = data_provider.get_train_iter(batch_size)"
   ]
  },
  {
   "cell_type": "code",
   "execution_count": 3,
   "metadata": {},
   "outputs": [
    {
     "name": "stdout",
     "output_type": "stream",
     "text": [
      "label: 32\n",
      "image size: torch.Size([32, 2, 64, 64]) <class 'torch.Tensor'>\n"
     ]
    }
   ],
   "source": [
    "for bid, batch in enumerate(train_batch_iter):\n",
    "    labels, codes, batch_images = batch\n",
    "    break\n",
    "    \n",
    "print('label:', len(labels))\n",
    "print('image size:', batch_images.shape, type(batch_images))"
   ]
  },
  {
   "cell_type": "code",
   "execution_count": 4,
   "metadata": {},
   "outputs": [
    {
     "data": {
      "text/plain": [
       "(torch.Size([47, 1, 1, 128]), 32)"
      ]
     },
     "execution_count": 4,
     "metadata": {},
     "output_type": "execute_result"
    }
   ],
   "source": [
    "fonts_num = 47\n",
    "embedding_dim = 128\n",
    "embeddings = init_embedding(fonts_num, embedding_dim)\n",
    "embedding_ids = labels\n",
    "embeddings.shape, len(embedding_ids)"
   ]
  },
  {
   "cell_type": "code",
   "execution_count": 5,
   "metadata": {},
   "outputs": [],
   "source": [
    "real_target = batch_images[:, 0, :, :].view([batch_size, 1, img_size, img_size])\n",
    "real_source = batch_images[:, 1, :, :].view([batch_size, 1, img_size, img_size])"
   ]
  },
  {
   "cell_type": "code",
   "execution_count": 6,
   "metadata": {},
   "outputs": [],
   "source": [
    "En = Encoder()\n",
    "De = Decoder()\n",
    "fake_target, encoded_images = Generator(real_target, En, De, embeddings, embedding_ids)"
   ]
  },
  {
   "cell_type": "code",
   "execution_count": 7,
   "metadata": {},
   "outputs": [
    {
     "data": {
      "text/plain": [
       "Encoder(\n",
       "  (conv1): Sequential(\n",
       "    (0): Conv2d(1, 64, kernel_size=(5, 5), stride=(2, 2), padding=(2, 2))\n",
       "  )\n",
       "  (conv2): Sequential(\n",
       "    (0): LeakyReLU(negative_slope=0.2)\n",
       "    (1): Conv2d(64, 128, kernel_size=(5, 5), stride=(2, 2), padding=(2, 2))\n",
       "    (2): BatchNorm2d(128, eps=1e-05, momentum=0.1, affine=True, track_running_stats=True)\n",
       "  )\n",
       "  (conv3): Sequential(\n",
       "    (0): LeakyReLU(negative_slope=0.2)\n",
       "    (1): Conv2d(128, 256, kernel_size=(5, 5), stride=(2, 2), padding=(2, 2))\n",
       "    (2): BatchNorm2d(256, eps=1e-05, momentum=0.1, affine=True, track_running_stats=True)\n",
       "  )\n",
       "  (conv4): Sequential(\n",
       "    (0): LeakyReLU(negative_slope=0.2)\n",
       "    (1): Conv2d(256, 512, kernel_size=(5, 5), stride=(2, 2), padding=(2, 2))\n",
       "    (2): BatchNorm2d(512, eps=1e-05, momentum=0.1, affine=True, track_running_stats=True)\n",
       "  )\n",
       "  (conv5): Sequential(\n",
       "    (0): LeakyReLU(negative_slope=0.2)\n",
       "    (1): Conv2d(512, 512, kernel_size=(5, 5), stride=(2, 2), padding=(2, 2))\n",
       "    (2): BatchNorm2d(512, eps=1e-05, momentum=0.1, affine=True, track_running_stats=True)\n",
       "  )\n",
       "  (conv6): Sequential(\n",
       "    (0): LeakyReLU(negative_slope=0.2)\n",
       "    (1): Conv2d(512, 512, kernel_size=(5, 5), stride=(2, 2), padding=(2, 2))\n",
       "    (2): BatchNorm2d(512, eps=1e-05, momentum=0.1, affine=True, track_running_stats=True)\n",
       "  )\n",
       "  (conv7): Sequential(\n",
       "    (0): LeakyReLU(negative_slope=0.2)\n",
       "    (1): Conv2d(512, 512, kernel_size=(5, 5), stride=(2, 2), padding=(2, 2))\n",
       "    (2): BatchNorm2d(512, eps=1e-05, momentum=0.1, affine=True, track_running_stats=True)\n",
       "  )\n",
       "  (conv8): Sequential(\n",
       "    (0): LeakyReLU(negative_slope=0.2)\n",
       "    (1): Conv2d(512, 512, kernel_size=(5, 5), stride=(2, 2), padding=(2, 2))\n",
       "    (2): BatchNorm2d(512, eps=1e-05, momentum=0.1, affine=True, track_running_stats=True)\n",
       "  )\n",
       ")"
      ]
     },
     "execution_count": 7,
     "metadata": {},
     "output_type": "execute_result"
    }
   ],
   "source": [
    "En"
   ]
  },
  {
   "cell_type": "code",
   "execution_count": 8,
   "metadata": {},
   "outputs": [
    {
     "data": {
      "text/plain": [
       "Decoder(\n",
       "  (deconv1): Sequential(\n",
       "    (0): LeakyReLU(negative_slope=0.1)\n",
       "    (1): ConvTranspose2d(640, 512, kernel_size=(3, 3), stride=(1, 1), padding=(1, 1))\n",
       "    (2): BatchNorm2d(512, eps=1e-05, momentum=0.1, affine=True, track_running_stats=True)\n",
       "    (3): Dropout(p=0.5)\n",
       "  )\n",
       "  (deconv2): Sequential(\n",
       "    (0): LeakyReLU(negative_slope=0.1)\n",
       "    (1): ConvTranspose2d(1024, 512, kernel_size=(3, 3), stride=(1, 1), padding=(1, 1))\n",
       "    (2): BatchNorm2d(512, eps=1e-05, momentum=0.1, affine=True, track_running_stats=True)\n",
       "    (3): Dropout(p=0.5)\n",
       "  )\n",
       "  (deconv3): Sequential(\n",
       "    (0): LeakyReLU(negative_slope=0.1)\n",
       "    (1): ConvTranspose2d(1024, 512, kernel_size=(4, 4), stride=(1, 1), padding=(1, 1))\n",
       "    (2): BatchNorm2d(512, eps=1e-05, momentum=0.1, affine=True, track_running_stats=True)\n",
       "    (3): Dropout(p=0.5)\n",
       "  )\n",
       "  (deconv4): Sequential(\n",
       "    (0): LeakyReLU(negative_slope=0.1)\n",
       "    (1): ConvTranspose2d(1024, 512, kernel_size=(5, 5), stride=(1, 1), padding=(1, 1))\n",
       "    (2): BatchNorm2d(512, eps=1e-05, momentum=0.1, affine=True, track_running_stats=True)\n",
       "  )\n",
       "  (deconv5): Sequential(\n",
       "    (0): LeakyReLU(negative_slope=0.1)\n",
       "    (1): ConvTranspose2d(1024, 256, kernel_size=(4, 4), stride=(2, 2), padding=(1, 1))\n",
       "    (2): BatchNorm2d(256, eps=1e-05, momentum=0.1, affine=True, track_running_stats=True)\n",
       "  )\n",
       "  (deconv6): Sequential(\n",
       "    (0): LeakyReLU(negative_slope=0.1)\n",
       "    (1): ConvTranspose2d(512, 128, kernel_size=(4, 4), stride=(2, 2), padding=(1, 1))\n",
       "    (2): BatchNorm2d(128, eps=1e-05, momentum=0.1, affine=True, track_running_stats=True)\n",
       "  )\n",
       "  (deconv7): Sequential(\n",
       "    (0): LeakyReLU(negative_slope=0.1)\n",
       "    (1): ConvTranspose2d(256, 64, kernel_size=(4, 4), stride=(2, 2), padding=(1, 1))\n",
       "    (2): BatchNorm2d(64, eps=1e-05, momentum=0.1, affine=True, track_running_stats=True)\n",
       "  )\n",
       "  (deconv8): Sequential(\n",
       "    (0): LeakyReLU(negative_slope=0.1)\n",
       "    (1): ConvTranspose2d(128, 1, kernel_size=(4, 4), stride=(2, 2), padding=(1, 1))\n",
       "  )\n",
       ")"
      ]
     },
     "execution_count": 8,
     "metadata": {},
     "output_type": "execute_result"
    }
   ],
   "source": [
    "De"
   ]
  },
  {
   "cell_type": "code",
   "execution_count": 9,
   "metadata": {},
   "outputs": [
    {
     "name": "stdout",
     "output_type": "stream",
     "text": [
      "torch.Size([32, 1, 64, 64])\n"
     ]
    },
    {
     "data": {
      "image/png": "[encoded data removed]",
      "text/plain": [
       "<Figure size 432x288 with 1 Axes>"
      ]
     },
     "metadata": {
      "needs_background": "light"
     },
     "output_type": "display_data"
    }
   ],
   "source": [
    "print(fake_target.shape)\n",
    "plt.imshow(fake_target[0][0].data, cmap='gray')\n",
    "plt.grid()\n",
    "plt.show()"
   ]
  },
  {
   "cell_type": "code",
   "execution_count": 10,
   "metadata": {},
   "outputs": [
    {
     "data": {
      "text/plain": [
       "torch.Size([32, 512, 1, 1])"
      ]
     },
     "execution_count": 10,
     "metadata": {},
     "output_type": "execute_result"
    }
   ],
   "source": [
    "encoded_images.shape"
   ]
  },
  {
   "cell_type": "code",
   "execution_count": 11,
   "metadata": {},
   "outputs": [],
   "source": [
    "D = Discriminator(category_num=fonts_num)"
   ]
  },
  {
   "cell_type": "code",
   "execution_count": 12,
   "metadata": {},
   "outputs": [
    {
     "data": {
      "text/plain": [
       "(torch.Size([32, 2, 64, 64]), torch.Size([32, 2, 64, 64]))"
      ]
     },
     "execution_count": 12,
     "metadata": {},
     "output_type": "execute_result"
    }
   ],
   "source": [
    "real_TS = torch.cat([real_source, real_target], dim=1)\n",
    "fake_TS = torch.cat([real_source, fake_target], dim=1)\n",
    "real_TS.shape, fake_TS.shape"
   ]
  },
  {
   "cell_type": "code",
   "execution_count": 13,
   "metadata": {},
   "outputs": [],
   "source": [
    "fake_score, fake_score_logit, fake_cat_logit = D(fake_TS)"
   ]
  },
  {
   "cell_type": "code",
   "execution_count": 14,
   "metadata": {},
   "outputs": [
    {
     "data": {
      "text/plain": [
       "(torch.Size([32, 1]), torch.Size([32, 1]), torch.Size([32, 47]))"
      ]
     },
     "execution_count": 14,
     "metadata": {},
     "output_type": "execute_result"
    }
   ],
   "source": [
    "fake_score.shape, fake_score_logit.shape, fake_cat_logit.shape"
   ]
  },
  {
   "cell_type": "code",
   "execution_count": 15,
   "metadata": {},
   "outputs": [
    {
     "data": {
      "text/plain": [
       "[35,\n",
       " 11,\n",
       " 6,\n",
       " 26,\n",
       " 22,\n",
       " 30,\n",
       " 17,\n",
       " 39,\n",
       " 23,\n",
       " 4,\n",
       " 14,\n",
       " 35,\n",
       " 0,\n",
       " 9,\n",
       " 31,\n",
       " 20,\n",
       " 22,\n",
       " 27,\n",
       " 26,\n",
       " 3,\n",
       " 35,\n",
       " 16,\n",
       " 29,\n",
       " 31,\n",
       " 6,\n",
       " 28,\n",
       " 3,\n",
       " 36,\n",
       " 14,\n",
       " 13,\n",
       " 30,\n",
       " 10]"
      ]
     },
     "execution_count": 15,
     "metadata": {},
     "output_type": "execute_result"
    }
   ],
   "source": [
    "embedding_ids"
   ]
  },
  {
   "cell_type": "code",
   "execution_count": 16,
   "metadata": {},
   "outputs": [
    {
     "data": {
      "text/plain": [
       "array([0., 0., 0., 0., 0., 0., 0., 0., 0., 0., 0., 0., 0., 0., 0., 0., 0.,\n",
       "       0., 0., 0., 0., 0., 0., 0., 0., 0., 0., 0., 0., 0., 1., 0., 0., 0.,\n",
       "       0., 0., 0., 0., 0., 0., 0., 0., 0., 0., 0., 0., 0.])"
      ]
     },
     "execution_count": 16,
     "metadata": {},
     "output_type": "execute_result"
    }
   ],
   "source": [
    "true_category = np.eye(fonts_num)[embedding_ids]\n",
    "true_category[-2]"
   ]
  },
  {
   "cell_type": "code",
   "execution_count": null,
   "metadata": {},
   "outputs": [],
   "source": []
  }
 ],
 "metadata": {
  "kernelspec": {
   "display_name": "Python 3",
   "language": "python",
   "name": "python3"
  },
  "language_info": {
   "codemirror_mode": {
    "name": "ipython",
    "version": 3
   },
   "file_extension": ".py",
   "mimetype": "text/x-python",
   "name": "python",
   "nbconvert_exporter": "python",
   "pygments_lexer": "ipython3",
   "version": "3.7.0"
  }
 },
 "nbformat": 4,
 "nbformat_minor": 2
}
