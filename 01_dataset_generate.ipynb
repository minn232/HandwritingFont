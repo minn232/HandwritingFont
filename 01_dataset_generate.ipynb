{
 "cells": [
  {
   "cell_type": "code",
   "execution_count": 1,
   "metadata": {},
   "outputs": [],
   "source": [
    "import argparse\n",
    "import sys\n",
    "import glob\n",
    "import numpy as np\n",
    "import io, os\n",
    "from PIL import Image\n",
    "from PIL import ImageDraw\n",
    "from PIL import ImageFont\n",
    "import collections"
   ]
  },
  {
   "cell_type": "markdown",
   "metadata": {},
   "source": [
    "### `draw_single_char`\n",
    "- `글자`, `폰트`, `canvas_size`를 받아서 128x128 이미지 출력"
   ]
  },
  {
   "cell_type": "code",
   "execution_count": 2,
   "metadata": {},
   "outputs": [],
   "source": [
    "def draw_single_char(ch, font, canvas_size):\n",
    "    image = Image.new('L', (canvas_size, canvas_size), color=255)\n",
    "    drawing = ImageDraw.Draw(image)\n",
    "    w, h = drawing.textsize(ch, font=font)\n",
    "    drawing.text(\n",
    "        ((canvas_size-w)/2, (canvas_size-h)/2),\n",
    "        ch,\n",
    "        fill=(0),\n",
    "        font=font\n",
    "    )\n",
    "    flag = np.sum(np.array(image))\n",
    "    \n",
    "    # 해당 font에 글자가 없으면 return None\n",
    "    if flag == 255 * 128 * 128:\n",
    "        return None\n",
    "    \n",
    "    return image"
   ]
  },
  {
   "cell_type": "markdown",
   "metadata": {},
   "source": [
    "### `draw_example`\n",
    "- `글자`, `원본폰트`, `타겟폰트`, `canvas_size(=128)`를 받아서 128x256 이미지 출력"
   ]
  },
  {
   "cell_type": "code",
   "execution_count": 3,
   "metadata": {},
   "outputs": [],
   "source": [
    "def draw_example(ch, src_font, dst_font, canvas_size):\n",
    "    dst_img = draw_single_char(ch, dst_font, canvas_size)\n",
    "    \n",
    "    # 해당 font에 글자가 없으면 return None\n",
    "    if not dst_img:\n",
    "        return None\n",
    "    \n",
    "    src_img = draw_single_char(ch, src_font, canvas_size)\n",
    "    example_img = Image.new(\"RGB\", (canvas_size * 2, canvas_size), (255, 255, 255)).convert('L')\n",
    "    example_img.paste(dst_img, (0, 0))\n",
    "    example_img.paste(src_img, (canvas_size, 0))   \n",
    "    return example_img"
   ]
  },
  {
   "cell_type": "code",
   "execution_count": 4,
   "metadata": {},
   "outputs": [
    {
     "name": "stdout",
     "output_type": "stream",
     "text": [
      "source font: ./fonts/source/source_font.ttf\n",
      "target fonts: 46 개\n"
     ]
    }
   ],
   "source": [
    "SRC_PATH = './fonts/source/'\n",
    "TRG_PATH = './fonts/target/'\n",
    "OUTPUT_PATH = './dataset-11172/'\n",
    "\n",
    "src_font = glob.glob(os.path.join(SRC_PATH, '*.ttf'))[0]\n",
    "print('source font:', src_font)\n",
    "\n",
    "trg_fonts = glob.glob(os.path.join(TRG_PATH, '*.ttf'))\n",
    "trg_fonts.sort()\n",
    "print('target fonts:', len(trg_fonts), '개')"
   ]
  },
  {
   "cell_type": "markdown",
   "metadata": {},
   "source": [
    "- 46개는 데이터 상 너무 많으므로 직접 걸러줬다. 26개로 거름"
   ]
  },
  {
   "cell_type": "code",
   "execution_count": 5,
   "metadata": {},
   "outputs": [
    {
     "name": "stdout",
     "output_type": "stream",
     "text": [
      "26\n"
     ]
    },
    {
     "data": {
      "text/plain": [
       "['./fonts/target/01.ttf',\n",
       " './fonts/target/02.ttf',\n",
       " './fonts/target/08.ttf',\n",
       " './fonts/target/10.ttf',\n",
       " './fonts/target/11.ttf',\n",
       " './fonts/target/13.ttf',\n",
       " './fonts/target/14.ttf',\n",
       " './fonts/target/16.ttf',\n",
       " './fonts/target/19.ttf',\n",
       " './fonts/target/21.ttf',\n",
       " './fonts/target/23.ttf',\n",
       " './fonts/target/26.ttf',\n",
       " './fonts/target/27.ttf',\n",
       " './fonts/target/29.ttf',\n",
       " './fonts/target/30.ttf',\n",
       " './fonts/target/33.ttf',\n",
       " './fonts/target/34.ttf',\n",
       " './fonts/target/35.ttf',\n",
       " './fonts/target/36.ttf',\n",
       " './fonts/target/37.ttf',\n",
       " './fonts/target/38.ttf',\n",
       " './fonts/target/39.ttf',\n",
       " './fonts/target/40.ttf',\n",
       " './fonts/target/41.ttf',\n",
       " './fonts/target/43.ttf',\n",
       " './fonts/target/44.ttf']"
      ]
     },
     "execution_count": 5,
     "metadata": {},
     "output_type": "execute_result"
    }
   ],
   "source": [
    "target_filter = [1, 2, 8, 10, 11, 13, 14, 16, 19, 21, 23, 26, 27, 29, \\\n",
    "                 30, 33, 34, 35, 36, 37, 38, 39, 40, 41, 43, 44]\n",
    "\n",
    "trg_fonts = [trg_fonts[i-1] for i in target_filter]\n",
    "print(len(trg_fonts))\n",
    "trg_fonts"
   ]
  },
  {
   "cell_type": "markdown",
   "metadata": {},
   "source": [
    "- 글자는 완성형 한글로, 총 11,172개"
   ]
  },
  {
   "cell_type": "code",
   "execution_count": 6,
   "metadata": {},
   "outputs": [
    {
     "name": "stdout",
     "output_type": "stream",
     "text": [
      "11172\n"
     ]
    }
   ],
   "source": [
    "charset = []\n",
    "for i in range(0xac00,0xd7a4):\n",
    "    charset.append(chr(i))\n",
    "print(len(charset))"
   ]
  },
  {
   "cell_type": "markdown",
   "metadata": {},
   "source": [
    "- 데이터 생성 TEST"
   ]
  },
  {
   "cell_type": "code",
   "execution_count": 7,
   "metadata": {},
   "outputs": [],
   "source": [
    "src_char_size = 50\n",
    "trg_char_size = 55"
   ]
  },
  {
   "cell_type": "markdown",
   "metadata": {},
   "source": [
    "- 한 글자 이미지 생성"
   ]
  },
  {
   "cell_type": "code",
   "execution_count": 8,
   "metadata": {
    "scrolled": true
   },
   "outputs": [],
   "source": [
    "canvas_size = 128\n",
    "font = ImageFont.truetype(trg_fonts[2], size=trg_char_size)\n",
    "dst_img = draw_single_char(charset[500], font, canvas_size)\n",
    "dst_img"
   ]
  },
  {
   "cell_type": "markdown",
   "metadata": {},
   "source": [
    "- 두 글자 (target font, source font) 이미지 생성"
   ]
  },
  {
   "cell_type": "code",
   "execution_count": 9,
   "metadata": {},
   "outputs": [],
   "source": [
    "src_font = ImageFont.truetype(src_font, size=src_char_size)\n",
    "e = draw_example(charset[4422], src_font, font, canvas_size)\n",
    "e"
   ]
  },
  {
   "cell_type": "code",
   "execution_count": 10,
   "metadata": {},
   "outputs": [
    {
     "name": "stdout",
     "output_type": "stream",
     "text": [
      "processed 10000 chars\n",
      "processed 20000 chars\n",
      "processed 30000 chars\n",
      "processed 40000 chars\n",
      "processed 50000 chars\n",
      "processed 60000 chars\n",
      "processed 70000 chars\n",
      "processed 80000 chars\n",
      "processed 90000 chars\n",
      "processed 100000 chars\n",
      "processed 110000 chars\n",
      "processed 120000 chars\n",
      "processed 130000 chars\n",
      "processed 140000 chars\n",
      "processed 150000 chars\n",
      "processed 160000 chars\n",
      "processed 170000 chars\n",
      "processed 180000 chars\n",
      "processed 190000 chars\n",
      "processed 200000 chars\n",
      "processed 210000 chars\n",
      "processed 220000 chars\n",
      "processed 230000 chars\n",
      "processed 237831 chars, end\n"
     ]
    }
   ],
   "source": [
    "count = 0\n",
    "font_label = 0\n",
    "canvas_size = 128\n",
    "font_count = 0\n",
    "src_char_size = 50\n",
    "trg_char_size = 55\n",
    "OUTPUT_PATH = './hangul-dataset-11172/'\n",
    "\n",
    "# src_font = ImageFont.truetype(src_font, size=src_char_size)\n",
    "\n",
    "for font in trg_fonts:            \n",
    "    font = ImageFont.truetype(font, size=trg_char_size)\n",
    "    character_count = 0\n",
    "    for c in charset:\n",
    "        e = draw_example(c, src_font, font, canvas_size)\n",
    "        if e:\n",
    "            e.save(os.path.join(OUTPUT_PATH, \"%d_%04d.png\" % (font_label, character_count)))\n",
    "            character_count += 1\n",
    "            count += 1\n",
    "            if count % 10000 == 0:\n",
    "                print(\"processed %d chars\" % count)\n",
    "    font_label += 1\n",
    "print(\"processed %d chars, end\" % count)"
   ]
  },
  {
   "cell_type": "markdown",
   "metadata": {},
   "source": [
    "wow 237831 data!"
   ]
  },
  {
   "cell_type": "markdown",
   "metadata": {},
   "source": [
    "### `package.py`로 obj 파일 생성"
   ]
  },
  {
   "cell_type": "code",
   "execution_count": 6,
   "metadata": {},
   "outputs": [],
   "source": [
    "# -*- coding: utf-8 -*-\n",
    "from __future__ import print_function\n",
    "from __future__ import absolute_import\n",
    "\n",
    "import argparse\n",
    "import glob\n",
    "import os\n",
    "import pickle as pickle\n",
    "import random\n",
    "\n",
    "\n",
    "def pickle_examples(from_dir, train_path, val_path, train_val_split=0.2):\n",
    "    \"\"\"\n",
    "    Compile a list of examples into pickled format, so during\n",
    "    the training, all io will happen in memory\n",
    "    \"\"\"\n",
    "    paths = glob.glob(os.path.join(from_dir, \"*.png\"))\n",
    "    with open(train_path, 'wb') as ft:\n",
    "        with open(val_path, 'wb') as fv:\n",
    "            print('all data num:', len(paths))\n",
    "            c = 1\n",
    "            val_count = 0\n",
    "            train_count = 0\n",
    "            for p in paths:\n",
    "                c += 1\n",
    "                label = int(os.path.basename(p).split(\"_\")[0])\n",
    "                with open(p, 'rb') as f:\n",
    "                    img_bytes = f.read()\n",
    "                    example = (label, img_bytes)\n",
    "                    r = random.random()\n",
    "                    if r < train_val_split:\n",
    "                        pickle.dump(example, fv)\n",
    "                        val_count += 1\n",
    "                        if val_count % 10000 == 0:\n",
    "                            print(\"%d imgs saved in val.obj\" % val_count)\n",
    "                    else:\n",
    "                        pickle.dump(example, ft)\n",
    "                        train_count += 1\n",
    "                        if train_count % 10000 == 0:\n",
    "                            print(\"%d imgs saved in train.obj\" % train_count)\n",
    "            print(\"%d imgs saved in val.obj, end\" % val_count)\n",
    "            print(\"%d imgs saved in train.obj, end\" % train_count)\n",
    "            return"
   ]
  },
  {
   "cell_type": "code",
   "execution_count": 7,
   "metadata": {},
   "outputs": [
    {
     "name": "stdout",
     "output_type": "stream",
     "text": [
      "all data num: 237831\n",
      "10000 imgs saved in train.obj\n",
      "20000 imgs saved in train.obj\n",
      "30000 imgs saved in train.obj\n",
      "10000 imgs saved in val.obj\n",
      "40000 imgs saved in train.obj\n",
      "50000 imgs saved in train.obj\n",
      "60000 imgs saved in train.obj\n",
      "70000 imgs saved in train.obj\n",
      "20000 imgs saved in val.obj\n",
      "80000 imgs saved in train.obj\n",
      "90000 imgs saved in train.obj\n",
      "100000 imgs saved in train.obj\n",
      "110000 imgs saved in train.obj\n",
      "30000 imgs saved in val.obj\n",
      "120000 imgs saved in train.obj\n",
      "130000 imgs saved in train.obj\n",
      "140000 imgs saved in train.obj\n",
      "150000 imgs saved in train.obj\n",
      "40000 imgs saved in val.obj\n",
      "160000 imgs saved in train.obj\n",
      "170000 imgs saved in train.obj\n",
      "180000 imgs saved in train.obj\n",
      "190000 imgs saved in train.obj\n",
      "47426 imgs saved in val.obj, end\n",
      "190405 imgs saved in train.obj, end\n"
     ]
    }
   ],
   "source": [
    "from_dir = './hangul-dataset-11172/'\n",
    "save_dir = '../dataset/'\n",
    "train_path = os.path.join(save_dir, \"train.obj\")\n",
    "val_path = os.path.join(save_dir, \"val.obj\")\n",
    "\n",
    "pickle_examples(from_dir, train_path=train_path, val_path=val_path)"
   ]
  },
  {
   "cell_type": "code",
   "execution_count": null,
   "metadata": {},
   "outputs": [],
   "source": []
  },
  {
   "cell_type": "code",
   "execution_count": null,
   "metadata": {},
   "outputs": [],
   "source": []
  }
 ],
 "metadata": {
  "kernelspec": {
   "display_name": "Python 3",
   "language": "python",
   "name": "python3"
  },
  "language_info": {
   "codemirror_mode": {
    "name": "ipython",
    "version": 3
   },
   "file_extension": ".py",
   "mimetype": "text/x-python",
   "name": "python",
   "nbconvert_exporter": "python",
   "pygments_lexer": "ipython3",
   "version": "3.5.2"
  }
 },
 "nbformat": 4,
 "nbformat_minor": 2
}
