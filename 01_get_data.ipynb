{
 "cells": [
  {
   "cell_type": "code",
   "execution_count": 1,
   "metadata": {},
   "outputs": [],
   "source": [
    "from ops import conv2d, deconv2d, lrelu, fc, batch_norm, init_embedding, conditional_instance_norm\n",
    "from dataset import TrainDataProvider, InjectDataProvider, NeverEndingLoopingProvider\n",
    "from utils import scale_back, merge, save_concat_images"
   ]
  },
  {
   "cell_type": "code",
   "execution_count": 2,
   "metadata": {},
   "outputs": [],
   "source": [
    "data_dir = './data/'\n",
    "batch_size = 32"
   ]
  },
  {
   "cell_type": "code",
   "execution_count": 3,
   "metadata": {},
   "outputs": [
    {
     "name": "stdout",
     "output_type": "stream",
     "text": [
      "unpickled total 86423 examples\n",
      "unpickled total 21677 examples\n",
      "filter by label -> range(0, 23)\n",
      "train examples -> 43193, val examples -> 10857\n"
     ]
    }
   ],
   "source": [
    "data_provider = TrainDataProvider(data_dir, filter_by=range(23))\n",
    "total_batches = data_provider.compute_total_batch_num(batch_size)"
   ]
  },
  {
   "cell_type": "code",
   "execution_count": 4,
   "metadata": {},
   "outputs": [
    {
     "data": {
      "text/plain": [
       "1350"
      ]
     },
     "execution_count": 4,
     "metadata": {},
     "output_type": "execute_result"
    }
   ],
   "source": [
    "total_batches"
   ]
  },
  {
   "cell_type": "code",
   "execution_count": 5,
   "metadata": {},
   "outputs": [
    {
     "data": {
      "text/plain": [
       "(21,\n",
       " '2014.png',\n",
       " b'\\x89PNG\\r\\n\\x1a\\n\\x00\\x00\\x00\\rIHDR\\x00\\x00\\x00\\x80\\x00\\x00\\x00@\\x08\\x00\\x00\\x00\\x00\\xf7\\xbd \\xa3\\x00\\x00\\x04jIDATx\\x9c\\xed\\x98mL\\x95e\\x18\\xc7\\x7f\\x0f t05^\\xa6\\xe2\\x0b\"\\x94\\xe8l\\xe0\\x0b\\xd6|\\xa1\\xcdZeoK\\x9b\\xd3\\x9c_\\xa4\\xb5\\xd5FJ\\xda\\xd6\\x17\\x99\\x1f\\xb22\\xd7\\x9aC?\\x98\\x99\\xc3f\\xb9\\xb5\\xa1\\t\\xd1\\x9aNL\\xa7\\xadL\\x0b\\x1cK*\\x08\\xf2\\xe4\\xc0\\x11 \\x06\\x06\\x08<\\xff><\\x078/t\\xce\\xf3 /\\x1f:\\xd7\\xa7\\xfb\\xba\\xee\\xeb<\\xff\\xdfs\\xbf\\\\\\xf7ynC\\x8c\\xadE\\x8c\\xb1~\\x18 \\x0c\\x10\\x06\\x08\\x03\\x84\\x01F\\t \\xdf0\\x8c\\n\\x80\\xd7\\xfb\\x1a#\\x08\\xf0\\xb6\\xe1ckC\\xa4\\xffO\\xa6`\\xd4\\x01\\n\\xd5oEc\\x02\\xe0\\xc0\\xc2\\x00c\\x0e\\x105jJ\\x0b\\x07\\x0f\\x8f\\xcc\\x08\\xe4\\x0c\\x14\\xa2OC\\xa4:\\x00\\xd8\\x11w\\xfe\\xae\\xa8\\x9c\\x00t7T7y\\x9a\\xd7W\\xbfe}:4\\xbc\\xd3z\\xfan\\x94\\xca%)/ \\xec\\xbf\\x06zO\\xfd\\xf0k\\xb5\\xfb/AV\\xe9\\x14\\x80\\x92\\xe2\\xe2\\xb9\\xeb\\x00N\\x98\\xcc\\xb4+V\\xb8\\xc96\\x97\\x1f\\xc0Ok\\xeb\\xfa\\x9a5&\\x00\\rP\\xb1\\x0e:K\\xf7B\\x96\\xed\\xc7\\xda7?\\x80o\\xeb\\x00\\xe2\\xe7O\\x9f>kM\\x12\\x00\\xcd\\x90\\xd4|\\xae\\xf4\\xf8-\\x88yp\\xe4\\x016/\\xab\\xfe\\xf2(\\xdb\\xb7\\rDn\\xc3\\x8e-V3y$\\xf6\\xac\\xff\"\\\\\\xfcb7\\xa4{\\x05:\\xa1\\x15x`\\x13\\xcc\\x1a\\x92B\\xeb\\x99\\xa0\\x9b\\'\\xf0\\xa5\\xea \\xc5\\xcb\\xed\\x81\\xf1\\x0fg?\\xb3\\xa4\\xf20\\xd3\\x1c\\xc8\\xaa\\xeb\\x9f\\x8e\\x9bn\\xf7\\x1f?W^#/\\xdb\\x11\\x80\\x1bfx\\xb91p6\\x0b\\x88\\x848\\xdb\\xf299\\xb6S\\x03\\xea\\xc0\\xedF\\xc6G\\x94n[<\\xe3+\\xcb\\x8f\\x85n\\x80\\x89p\\x9f\\xed\\xa7z\\x9bk\\xd9\\x8a`\\xdd\\x01#P\\x0f\\x1d\\xf1=\\x10\\xe1\\xb9\\xb9\\x98\\x04\\x9d\\x00\\xd3\\xa2\\xefD;\\x90\\x8dr\\xb9&LNJ\\x9a=\\'=-2x\\xa2\\x9f\\x7f.\\x1fL\\x13\\x96\\xec^i\\x05R\\xe0&@Dr\\x8daK:?\\xdf\\x01g\\x00@\\xdd\\xa3&\\x90\\xb2a\\xe3|\\xe0\\xf2\\xce\\xfd\\xd3\\x98\\r\\xcd\\x00,\\xab\\x19\\xfa.|n\\xaaga\\xad\\xbd\\xdfw\\x85\\x01\\xf2\\xb1\\xd6t`\\x83)I:\\x1cC\\x95\\xd4\\x18\\xcb\\x11I\\xd2\\x95\\x15\\x97u7\\xd6\\xd3\\xd6\\xd6\\xd6\\x15\\x18\\xc6?\\xb0\\x07\\xb6JR\\xef\\x9b\\xb0\\xd0\\x94T\\xb6\\xb5c\\x88\\x92\\xf5\\t\\t\\t+\\xfa\\xbd/\\x80\\xfc\\xc0\\xa4\\x80a\\x8d\\x84q@\\xfb\\xc6\\x12b\\x0e\\x1b\\xc0J\\xf3\\xea\\xa2\\xa1\\r|G3\\x98\\xfd^\\x0c\\x83\\xee\\xa3\\x80m\\xd8\\x0b]\\xf0\\xfd\\x82\\x12\\x8cC\\x19@\\xed#\\x8f\\x1f\\x1a\\x9a>\\xf5\\xe0u\\x806\\xe1[\\xe1\\xfe\\x0b \\x16\\xca\\xaf\\xbf\\xb4\\xfcw\"\\x0fn\\x04~[z!}\\xa7\\xa7\\xcb\\xe9\\x95\\xe2Y`A\\xbf\\xf7\\x8b\\x8f7`\\xfesr\\xd2\\x13w\\x95H\\xd2\\xb5\\x99$\\xd4X\\x1d\\xdf\\xa4-r\\xb6\\x04\\xbaS\\x81\\x9c~w1p\"0+\\x00\\xa0=\\x11\\x80\\xcc\\nI\\xba\\x93\\x89\\xf1\\xb5\\x15\\xbf\\x14K\\xae3\\x80\\x02\\x80\\xa8Z\\x8fW\\x0e\\x90\\xdc\\x1c\\x1a@\\'\\xe3!m\\x7f\\x8f$i\\x07\\xbclE[RHmu\\xa4\\xff\\x9dU8WY{Z\\xab\\x01X\\xde\\x1e\\x1a@\\x9d\\x17\\xafz~T9\\x0e\\xa6\\\\\\x90\\xa4\\x9e\\xa7\\x88\\xf9\\xd1\\x91\\xfe\\xf9I\\xc0\\x9e\\x14xO\\x92t\\x0c\"\\n]\\xb0\\xd0\\x1d\\x1a`\\xc0^\\x00 {W\\xd1\\xc1\\'`\\x9f#\\xfd\\x8f]\\xc0\\x1a\\x95\\x19\\x18\\x07$]\\x99\\x08\\xb9\\xfa\\x10\\x88\\xfb\\xcc>@\\xa5\\xc1\\xbc\\xa5}\\x8b\\xf51\\xd3\\x81\\xfc\\x8d\\xf5\\x00\\x99-R>\\x18\\xef\\xaa\"\\x112\\xda<\\x7f\\x8a\\x9f\\xac\\xb2\\x0b\\x90\\x03E]\\x87\\x96[\\xb5*\\xef\\xc0 utp\\xeb,\\x88\\x03\\xc8l\\x92d\\xae\\x07\\x9e\\x8e\\x87$\\xb7$m\\x06\\x88z\\xf5O[\\x00\\xed\\xf72\\xcf\\x94\\xf4w\\xb9u\\xa0g\\\\\\xb3\\xa7\\x7f{.\\x00\\xcf\\xb6H\\x92\\xba\\xacy\\x9c\\xe5y\\xed\\x82h\\x80\\xccn;\\x00G\\xe0\\x03I\\xd2)\\xc8~\\x03\\x98j\\xf34:\\xe3\\x82\\xe8\\xf7\\xfb\\xa6\\xac\\'\\x07\\xc8\\xaa\\xef\\xeb\\xbc4\\x0f&\\xd7\\x0e$\\x07\\x01x\\x85\\xd8FI\\xeaL%\\xb6V\\x1fE\\xc1\\x04\\x9b\\x04\\xa7]\\xcfW{\\xb9{]\\xdb\\xef\\x0cx\\xdd\\xfb\\x92/zu\\x06\\x01\\xc8\\x8d\\xfeD\\x92\\xb4\\x1bvI*\\x8b\\x83\\xc4\\xab\\xf6\\x08\\x1a}\\xdd[\\xben\\xaf\\xb7\\x13\\x04\\xe0\\xe6\\rIR[\\x1cs\\xba$\\xa9*\\tR\\x9a\\xec\\x11\\xd8\\xb7\\xa0u@\\x92T\\x0c\\x9ej\\\\5\\x05^\\x1bn\\x80\\xd0\\x9f\\xe7\\x0fm\\xf9|\\x95\\xd5\\x9a{<\\x1aw\\xc8|\\xa7\\xe6\\x08\\xb7\\xf0\\x9ec\\xc3=\\x02\\x86\\xb3C\\xde\\x1c\\xf6\\x1b\\x15\\x87\\x00\\xc3oc~K\\x16\\x06\\x08\\x03\\x8c9\\xc0\\xbf`\\x95eN\\xf6\\xfe\\x8d\\xeb\\x00\\x00\\x00\\x00IEND\\xaeB`\\x82')"
      ]
     },
     "execution_count": 5,
     "metadata": {},
     "output_type": "execute_result"
    }
   ],
   "source": [
    "data_provider.train.examples[0]"
   ]
  },
  {
   "cell_type": "code",
   "execution_count": 6,
   "metadata": {},
   "outputs": [],
   "source": [
    "train_batch_iter = data_provider.get_train_iter(batch_size)"
   ]
  },
  {
   "cell_type": "code",
   "execution_count": 7,
   "metadata": {},
   "outputs": [],
   "source": [
    "for bid, batch in enumerate(train_batch_iter):\n",
    "    labels, codes, batch_images = batch\n",
    "    break"
   ]
  },
  {
   "cell_type": "code",
   "execution_count": 8,
   "metadata": {},
   "outputs": [
    {
     "name": "stdout",
     "output_type": "stream",
     "text": [
      "32\n"
     ]
    },
    {
     "data": {
      "text/plain": [
       "[1, 12, 2, 4, 6, 19, 21, 16, 18, 5]"
      ]
     },
     "execution_count": 8,
     "metadata": {},
     "output_type": "execute_result"
    }
   ],
   "source": [
    "print(len(labels))\n",
    "labels[:10]"
   ]
  },
  {
   "cell_type": "code",
   "execution_count": 9,
   "metadata": {},
   "outputs": [
    {
     "name": "stdout",
     "output_type": "stream",
     "text": [
      "32\n"
     ]
    },
    {
     "data": {
      "text/plain": [
       "['0988.png',\n",
       " '0592.png',\n",
       " '0168.png',\n",
       " '1941.png',\n",
       " '0499.png',\n",
       " '1550.png',\n",
       " '1853.png',\n",
       " '0197.png',\n",
       " '0855.png',\n",
       " '1111.png']"
      ]
     },
     "execution_count": 9,
     "metadata": {},
     "output_type": "execute_result"
    }
   ],
   "source": [
    "print(len(codes))\n",
    "codes[:10]"
   ]
  },
  {
   "cell_type": "code",
   "execution_count": 10,
   "metadata": {},
   "outputs": [
    {
     "name": "stdout",
     "output_type": "stream",
     "text": [
      "(32, 2, 64, 64)\n",
      "1 0988.png\n"
     ]
    },
    {
     "data": {
      "image/png": "[encoded data removed]",
      "text/plain": [
       "<Figure size 300x300 with 1 Axes>"
      ]
     },
     "metadata": {
      "needs_background": "light"
     },
     "output_type": "display_data"
    }
   ],
   "source": [
    "print(batch_images.shape)\n",
    "print(labels[0], codes[0])\n",
    "plt.figure(figsize=(1, 1))\n",
    "plt.imshow(batch_images[0][0,:,:], cmap='gray')\n",
    "plt.grid()\n",
    "# plt.axis('off')\n",
    "plt.show()"
   ]
  },
  {
   "cell_type": "code",
   "execution_count": 11,
   "metadata": {},
   "outputs": [
    {
     "data": {
      "image/png": "[encoded data removed]",
      "text/plain": [
       "<Figure size 300x300 with 1 Axes>"
      ]
     },
     "metadata": {
      "needs_background": "light"
     },
     "output_type": "display_data"
    }
   ],
   "source": [
    "plt.figure(figsize=(1, 1))\n",
    "plt.imshow(batch_images[0][1,:,:], cmap='gray')\n",
    "plt.grid()\n",
    "# plt.axis('off')\n",
    "plt.show()"
   ]
  },
  {
   "cell_type": "code",
   "execution_count": 12,
   "metadata": {},
   "outputs": [
    {
     "data": {
      "image/png": "[encoded data removed]",
      "text/plain": [
       "<Figure size 600x300 with 1 Axes>"
      ]
     },
     "metadata": {
      "needs_background": "light"
     },
     "output_type": "display_data"
    }
   ],
   "source": [
    "from PIL import Image\n",
    "\n",
    "path = './get_data/output/21_2117.png'\n",
    "im = Image.open(path)\n",
    "plt.figure(figsize=(2, 1))\n",
    "plt.imshow(im, cmap='gray')\n",
    "plt.grid()\n",
    "# plt.axis('off')\n",
    "plt.show()"
   ]
  },
  {
   "cell_type": "code",
   "execution_count": 16,
   "metadata": {},
   "outputs": [
    {
     "data": {
      "text/plain": [
       "(-1.0, 1.0)"
      ]
     },
     "execution_count": 16,
     "metadata": {},
     "output_type": "execute_result"
    }
   ],
   "source": [
    "batch_images[0].min(), batch_images[0].max()"
   ]
  },
  {
   "cell_type": "code",
   "execution_count": 20,
   "metadata": {},
   "outputs": [
    {
     "data": {
      "text/plain": [
       "array([[1., 1., 1., ..., 1., 1., 1.],\n",
       "       [1., 1., 1., ..., 1., 1., 1.],\n",
       "       [1., 1., 1., ..., 1., 1., 1.],\n",
       "       ...,\n",
       "       [1., 1., 1., ..., 1., 1., 1.],\n",
       "       [1., 1., 1., ..., 1., 1., 1.],\n",
       "       [1., 1., 1., ..., 1., 1., 1.]], dtype=float32)"
      ]
     },
     "execution_count": 20,
     "metadata": {},
     "output_type": "execute_result"
    }
   ],
   "source": [
    "batch_images[0][0]"
   ]
  },
  {
   "cell_type": "code",
   "execution_count": null,
   "metadata": {},
   "outputs": [],
   "source": []
  }
 ],
 "metadata": {
  "kernelspec": {
   "display_name": "Python 3",
   "language": "python",
   "name": "python3"
  },
  "language_info": {
   "codemirror_mode": {
    "name": "ipython",
    "version": 3
   },
   "file_extension": ".py",
   "mimetype": "text/x-python",
   "name": "python",
   "nbconvert_exporter": "python",
   "pygments_lexer": "ipython3",
   "version": "3.7.0"
  }
 },
 "nbformat": 4,
 "nbformat_minor": 2
}
