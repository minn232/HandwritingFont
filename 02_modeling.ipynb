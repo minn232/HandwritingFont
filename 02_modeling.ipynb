{
 "cells": [
  {
   "cell_type": "code",
   "execution_count": 1,
   "metadata": {},
   "outputs": [],
   "source": [
    "import warnings\n",
    "warnings.filterwarnings(\"ignore\")\n",
    "\n",
    "import torch\n",
    "import torch.nn as nn\n",
    "\n",
    "from common.function import conv2d, deconv2d, lrelu, fc, embedding_lookup"
   ]
  },
  {
   "cell_type": "markdown",
   "metadata": {},
   "source": [
    "## Generator"
   ]
  },
  {
   "cell_type": "markdown",
   "metadata": {},
   "source": [
    "- source image를 입력받아서 Encoding과 Decoding 과정을 거쳐 fake image를 생성해내는 Generator"
   ]
  },
  {
   "cell_type": "code",
   "execution_count": 2,
   "metadata": {},
   "outputs": [],
   "source": [
    "def Generator(images, En, De, embeddings, embedding_ids, GPU=False):\n",
    "    encoded_source, encode_layers = En(images)\n",
    "    local_embeddings = embedding_lookup(embeddings, embedding_ids, GPU=GPU)\n",
    "    if GPU:\n",
    "        encoded_source = encoded_source.cuda()\n",
    "        local_embeddings = local_embeddings.cuda()\n",
    "    embedded = torch.cat((encoded_source, local_embeddings), 1)\n",
    "    fake_target = De(embedded, encode_layers)\n",
    "    return fake_target, encoded_source"
   ]
  },
  {
   "cell_type": "markdown",
   "metadata": {},
   "source": [
    "### Encoder\n",
    "- Generator 모델 안의 Encoding을 담당하는 Encoder\n",
    "- source image를 입력받아서 특징을 추출해 latent code를 출력"
   ]
  },
  {
   "cell_type": "code",
   "execution_count": 3,
   "metadata": {},
   "outputs": [],
   "source": [
    "class Encoder(nn.Module):\n",
    "    \n",
    "    def __init__(self, img_dim=1, conv_dim=64):\n",
    "        super(Encoder, self).__init__()\n",
    "        self.conv1 = conv2d(img_dim, conv_dim, lrelu=False, bn=False)\n",
    "        self.conv2 = conv2d(conv_dim, conv_dim*2)\n",
    "        self.conv3 = conv2d(conv_dim*2, conv_dim*4)\n",
    "        self.conv4 = conv2d(conv_dim*4, conv_dim*8)\n",
    "        self.conv5 = conv2d(conv_dim*8, conv_dim*8)\n",
    "        self.conv6 = conv2d(conv_dim*8, conv_dim*8)\n",
    "        self.conv7 = conv2d(conv_dim*8, conv_dim*8)\n",
    "        self.conv8 = conv2d(conv_dim*8, conv_dim*8)\n",
    "    \n",
    "    def forward(self, images):\n",
    "        encode_layers = dict()\n",
    "        \n",
    "        e1 = self.conv1(images)\n",
    "        encode_layers['e1'] = e1\n",
    "        e2 = self.conv2(e1)\n",
    "        encode_layers['e2'] = e2\n",
    "        e3 = self.conv3(e2)\n",
    "        encode_layers['e3'] = e3\n",
    "        e4 = self.conv4(e3)\n",
    "        encode_layers['e4'] = e4\n",
    "        e5 = self.conv5(e4)\n",
    "        encode_layers['e5'] = e5\n",
    "        e6 = self.conv6(e5)\n",
    "        encode_layers['e6'] = e6\n",
    "        e7 = self.conv7(e6)\n",
    "        encode_layers['e7'] = e7\n",
    "        encoded_source = self.conv8(e7)\n",
    "        encode_layers['e8'] = encoded_source\n",
    "        \n",
    "        return encoded_source, encode_layers"
   ]
  },
  {
   "cell_type": "markdown",
   "metadata": {},
   "source": [
    "### Decoder\n",
    "- Encoder가 생성한 latent code를 다시 decoding 해서 fake image를 출력"
   ]
  },
  {
   "cell_type": "code",
   "execution_count": 4,
   "metadata": {},
   "outputs": [],
   "source": [
    "class Decoder(nn.Module):\n",
    "    \n",
    "    def __init__(self, img_dim=1, embedded_dim=640, conv_dim=64):\n",
    "        super(Decoder, self).__init__()\n",
    "        self.deconv1 = deconv2d(embedded_dim, conv_dim*8, dropout=True)\n",
    "        self.deconv2 = deconv2d(conv_dim*16, conv_dim*8, dropout=True)\n",
    "        self.deconv3 = deconv2d(conv_dim*16, conv_dim*8, k_size=4, dilation=2, dropout=True)\n",
    "        self.deconv4 = deconv2d(conv_dim*16, conv_dim*8, k_size=5, dilation=2)\n",
    "        self.deconv5 = deconv2d(conv_dim*16, conv_dim*4, k_size=4, dilation=2, stride=2)\n",
    "        self.deconv6 = deconv2d(conv_dim*8, conv_dim*2, k_size=4, dilation=2, stride=2)\n",
    "        self.deconv7 = deconv2d(conv_dim*4, conv_dim*1, k_size=4, dilation=2, stride=2)\n",
    "        self.deconv8 = deconv2d(conv_dim*2, img_dim, k_size=4, dilation=2, stride=2, bn=False)\n",
    "    \n",
    "    \n",
    "    def forward(self, embedded, encode_layers):\n",
    "        \n",
    "        d1 = self.deconv1(embedded)\n",
    "        d1 = torch.cat((d1, encode_layers['e7']), dim=1)\n",
    "        d2 = self.deconv2(d1)\n",
    "        d2 = torch.cat((d2, encode_layers['e6']), dim=1)\n",
    "        d3 = self.deconv3(d2)\n",
    "        d3 = torch.cat((d3, encode_layers['e5']), dim=1)\n",
    "        d4 = self.deconv4(d3)\n",
    "        d4 = torch.cat((d4, encode_layers['e4']), dim=1)\n",
    "        d5 = self.deconv5(d4)\n",
    "        d5 = torch.cat((d5, encode_layers['e3']), dim=1)\n",
    "        d6 = self.deconv6(d5)\n",
    "        d6 = torch.cat((d6, encode_layers['e2']), dim=1)\n",
    "        d7 = self.deconv7(d6)\n",
    "        d7 = torch.cat((d7, encode_layers['e1']), dim=1)\n",
    "        d8 = self.deconv8(d7)        \n",
    "        fake_target = torch.tanh(d8)\n",
    "        \n",
    "        return fake_target"
   ]
  },
  {
   "cell_type": "markdown",
   "metadata": {},
   "source": [
    "## Discriminator\n",
    "- Generator가 생성해낸 fake image와, real image인 target image를 입력받아서 진짜일 확률값(0~1) 출력"
   ]
  },
  {
   "cell_type": "code",
   "execution_count": 5,
   "metadata": {},
   "outputs": [],
   "source": [
    "class Discriminator(nn.Module):\n",
    "    def __init__(self, category_num, img_dim=2, disc_dim=64):\n",
    "        super(Discriminator, self).__init__()\n",
    "        self.conv1 = conv2d(img_dim, disc_dim, bn=False)\n",
    "        self.conv2 = conv2d(disc_dim, disc_dim*2)\n",
    "        self.conv3 = conv2d(disc_dim*2, disc_dim*4)\n",
    "        self.conv4 = conv2d(disc_dim*4, disc_dim*8, stride=1)\n",
    "        self.fc1 = fc(disc_dim*8*8*8, 1)\n",
    "        self.fc2 = fc(disc_dim*8*8*8, category_num)\n",
    "        \n",
    "    def forward(self, images):\n",
    "        batch_size = images.shape[0]\n",
    "        h1 = self.conv1(images)\n",
    "        h2 = self.conv2(h1)\n",
    "        h3 = self.conv3(h2)\n",
    "        h4 = self.conv4(h3)\n",
    "        \n",
    "        tf_loss_logit = self.fc1(h4.reshape(batch_size, -1))\n",
    "        tf_loss = torch.sigmoid(tf_loss_logit)\n",
    "        cat_loss = self.fc2(h4.reshape(batch_size, -1))\n",
    "        \n",
    "        return tf_loss, tf_loss_logit, cat_loss"
   ]
  },
  {
   "cell_type": "code",
   "execution_count": null,
   "metadata": {},
   "outputs": [],
   "source": []
  }
 ],
 "metadata": {
  "kernelspec": {
   "display_name": "Python 3",
   "language": "python",
   "name": "python3"
  },
  "language_info": {
   "codemirror_mode": {
    "name": "ipython",
    "version": 3
   },
   "file_extension": ".py",
   "mimetype": "text/x-python",
   "name": "python",
   "nbconvert_exporter": "python",
   "pygments_lexer": "ipython3",
   "version": "3.5.2"
  }
 },
 "nbformat": 4,
 "nbformat_minor": 2
}
