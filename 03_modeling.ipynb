{
 "cells": [
  {
   "cell_type": "code",
   "execution_count": 1,
   "metadata": {},
   "outputs": [],
   "source": [
    "import os\n",
    "import warnings\n",
    "warnings.filterwarnings(\"ignore\")\n",
    "\n",
    "import torch\n",
    "import torch.nn as nn\n",
    "\n",
    "from common.function import conv2d, deconv2d, lrelu, fc, embedding_lookup"
   ]
  },
  {
   "cell_type": "code",
   "execution_count": 2,
   "metadata": {},
   "outputs": [
    {
     "data": {
      "text/plain": [
       "True"
      ]
     },
     "execution_count": 2,
     "metadata": {},
     "output_type": "execute_result"
    }
   ],
   "source": [
    "GPU = torch.cuda.is_available()\n",
    "GPU"
   ]
  },
  {
   "cell_type": "markdown",
   "metadata": {},
   "source": [
    "## Generator"
   ]
  },
  {
   "cell_type": "markdown",
   "metadata": {},
   "source": [
    "- source image를 입력받아서 Encoding과 Decoding 과정을 거쳐 fake image를 생성해내는 Generator"
   ]
  },
  {
   "cell_type": "code",
   "execution_count": 3,
   "metadata": {},
   "outputs": [],
   "source": [
    "def Generator(images, En, De, embeddings, embedding_ids, GPU=False):\n",
    "    encoded_source, encode_layers = En(images)\n",
    "    local_embeddings = embedding_lookup(embeddings, embedding_ids, GPU=GPU)\n",
    "    if GPU:\n",
    "        encoded_source = encoded_source.cuda()\n",
    "        local_embeddings = local_embeddings.cuda()\n",
    "    embedded = torch.cat((encoded_source, local_embeddings), 1)\n",
    "    fake_target = De(embedded, encode_layers)\n",
    "    return fake_target, encoded_source"
   ]
  },
  {
   "cell_type": "markdown",
   "metadata": {},
   "source": [
    "### Encoder\n",
    "- Generator 모델 안의 Encoding을 담당하는 Encoder\n",
    "- source image를 입력받아서 특징을 추출해 latent code를 출력"
   ]
  },
  {
   "cell_type": "code",
   "execution_count": 4,
   "metadata": {},
   "outputs": [],
   "source": [
    "class Encoder(nn.Module):\n",
    "    \n",
    "    def __init__(self, img_dim=1, conv_dim=64):\n",
    "        super(Encoder, self).__init__()\n",
    "        self.conv1 = conv2d(img_dim, conv_dim, k_size=5, stride=2, pad=2, dilation=2, lrelu=False, bn=False)\n",
    "        self.conv2 = conv2d(conv_dim, conv_dim*2, k_size=5, stride=2, pad=2, dilation=2)\n",
    "        self.conv3 = conv2d(conv_dim*2, conv_dim*4, k_size=4, stride=2, pad=1, dilation=1)\n",
    "        self.conv4 = conv2d(conv_dim*4, conv_dim*8)\n",
    "        self.conv5 = conv2d(conv_dim*8, conv_dim*8)\n",
    "        self.conv6 = conv2d(conv_dim*8, conv_dim*8)\n",
    "        self.conv7 = conv2d(conv_dim*8, conv_dim*8)\n",
    "        self.conv8 = conv2d(conv_dim*8, conv_dim*8)\n",
    "    \n",
    "    def forward(self, images):\n",
    "        encode_layers = dict()\n",
    "        \n",
    "        e1 = self.conv1(images)\n",
    "        encode_layers['e1'] = e1\n",
    "        e2 = self.conv2(e1)\n",
    "        encode_layers['e2'] = e2\n",
    "        e3 = self.conv3(e2)\n",
    "        encode_layers['e3'] = e3\n",
    "        e4 = self.conv4(e3)\n",
    "        encode_layers['e4'] = e4\n",
    "        e5 = self.conv5(e4)\n",
    "        encode_layers['e5'] = e5\n",
    "        e6 = self.conv6(e5)\n",
    "        encode_layers['e6'] = e6\n",
    "        e7 = self.conv7(e6)\n",
    "        encode_layers['e7'] = e7\n",
    "        encoded_source = self.conv8(e7)\n",
    "        encode_layers['e8'] = encoded_source\n",
    "        \n",
    "        return encoded_source, encode_layers"
   ]
  },
  {
   "cell_type": "markdown",
   "metadata": {},
   "source": [
    "### Decoder\n",
    "- Encoder가 생성한 latent code를 다시 decoding 해서 fake image를 출력"
   ]
  },
  {
   "cell_type": "code",
   "execution_count": 5,
   "metadata": {},
   "outputs": [],
   "source": [
    "class Decoder(nn.Module):\n",
    "    \n",
    "    def __init__(self, img_dim=1, embedded_dim=640, conv_dim=64):\n",
    "        super(Decoder, self).__init__()\n",
    "        self.deconv1 = deconv2d(embedded_dim, conv_dim*8, dropout=True)\n",
    "        self.deconv2 = deconv2d(conv_dim*16, conv_dim*8, dropout=True, k_size=4)\n",
    "        self.deconv3 = deconv2d(conv_dim*16, conv_dim*8, k_size=5, dilation=2, dropout=True)\n",
    "        self.deconv4 = deconv2d(conv_dim*16, conv_dim*8, k_size=4, dilation=2, stride=2)\n",
    "        self.deconv5 = deconv2d(conv_dim*16, conv_dim*4, k_size=4, dilation=2, stride=2)\n",
    "        self.deconv6 = deconv2d(conv_dim*8, conv_dim*2, k_size=4, dilation=2, stride=2)\n",
    "        self.deconv7 = deconv2d(conv_dim*4, conv_dim*1, k_size=4, dilation=2, stride=2)\n",
    "        self.deconv8 = deconv2d(conv_dim*2, img_dim, k_size=4, dilation=2, stride=2, bn=False)\n",
    "    \n",
    "    \n",
    "    def forward(self, embedded, encode_layers):\n",
    "        \n",
    "        d1 = self.deconv1(embedded)\n",
    "        d1 = torch.cat((d1, encode_layers['e7']), dim=1)\n",
    "        d2 = self.deconv2(d1)\n",
    "        d2 = torch.cat((d2, encode_layers['e6']), dim=1)\n",
    "        d3 = self.deconv3(d2)\n",
    "        d3 = torch.cat((d3, encode_layers['e5']), dim=1)\n",
    "        d4 = self.deconv4(d3)\n",
    "        d4 = torch.cat((d4, encode_layers['e4']), dim=1)\n",
    "        d5 = self.deconv5(d4)\n",
    "        d5 = torch.cat((d5, encode_layers['e3']), dim=1)\n",
    "        d6 = self.deconv6(d5)\n",
    "        d6 = torch.cat((d6, encode_layers['e2']), dim=1)\n",
    "        d7 = self.deconv7(d6)\n",
    "        d7 = torch.cat((d7, encode_layers['e1']), dim=1)\n",
    "        d8 = self.deconv8(d7)        \n",
    "        fake_target = torch.tanh(d8)\n",
    "        \n",
    "        return fake_target"
   ]
  },
  {
   "cell_type": "markdown",
   "metadata": {},
   "source": [
    "## Discriminator\n",
    "- Generator가 생성해낸 fake image와, real image인 target image를 입력받아서 진짜일 확률값(0~1) 출력"
   ]
  },
  {
   "cell_type": "code",
   "execution_count": 6,
   "metadata": {},
   "outputs": [],
   "source": [
    "class Discriminator(nn.Module):\n",
    "    def __init__(self, category_num, img_dim=2, disc_dim=64):\n",
    "        super(Discriminator, self).__init__()\n",
    "        self.conv1 = conv2d(img_dim, disc_dim, bn=False)\n",
    "        self.conv2 = conv2d(disc_dim, disc_dim*2)\n",
    "        self.conv3 = conv2d(disc_dim*2, disc_dim*4)\n",
    "        self.conv4 = conv2d(disc_dim*4, disc_dim*8)\n",
    "        self.fc1 = fc(disc_dim*8*8*8, 1)\n",
    "        self.fc2 = fc(disc_dim*8*8*8, category_num)\n",
    "        \n",
    "    def forward(self, images):\n",
    "        batch_size = images.shape[0]\n",
    "        h1 = self.conv1(images)\n",
    "        h2 = self.conv2(h1)\n",
    "        h3 = self.conv3(h2)\n",
    "        h4 = self.conv4(h3)\n",
    "        \n",
    "        tf_loss_logit = self.fc1(h4.reshape(batch_size, -1))\n",
    "        tf_loss = torch.sigmoid(tf_loss_logit)\n",
    "        cat_loss = self.fc2(h4.reshape(batch_size, -1))\n",
    "        \n",
    "        return tf_loss, tf_loss_logit, cat_loss"
   ]
  },
  {
   "cell_type": "markdown",
   "metadata": {},
   "source": [
    "## Check shapes\n",
    "- 각 모델이 생성하는 데이터의 shape들을 확인해보자"
   ]
  },
  {
   "cell_type": "code",
   "execution_count": 7,
   "metadata": {},
   "outputs": [
    {
     "data": {
      "text/plain": [
       "(torch.Size([32, 1, 128, 128]),\n",
       " torch.Size([32, 1, 128, 128]),\n",
       " torch.Size([32]))"
      ]
     },
     "execution_count": 7,
     "metadata": {},
     "output_type": "execute_result"
    }
   ],
   "source": [
    "fixed_dir = './fixed_sample'\n",
    "\n",
    "source = torch.load(os.path.join(fixed_dir, 'fixed_source_all.pkl')).cuda()\n",
    "target = torch.load(os.path.join(fixed_dir, 'fixed_target_all.pkl')).cuda()\n",
    "label = torch.load(os.path.join(fixed_dir, 'fixed_label_all.pkl')).cuda()\n",
    "source.shape, target.shape, label.shape"
   ]
  },
  {
   "cell_type": "markdown",
   "metadata": {},
   "source": [
    "### Encoder"
   ]
  },
  {
   "cell_type": "code",
   "execution_count": 8,
   "metadata": {},
   "outputs": [],
   "source": [
    "img_dim = 1\n",
    "conv_dim = 64\n",
    "encode_layers = dict()\n",
    "\n",
    "conv1 = conv2d(img_dim, conv_dim, k_size=5, stride=2, pad=2, dilation=2, lrelu=False, bn=False).cuda()\n",
    "conv2 = conv2d(conv_dim, conv_dim*2, k_size=5, stride=2, pad=2, dilation=2).cuda()\n",
    "conv3 = conv2d(conv_dim*2, conv_dim*4, k_size=4, stride=2, pad=1, dilation=1).cuda()\n",
    "conv4 = conv2d(conv_dim*4, conv_dim*8).cuda()\n",
    "conv5 = conv2d(conv_dim*8, conv_dim*8).cuda()\n",
    "conv6 = conv2d(conv_dim*8, conv_dim*8).cuda()\n",
    "conv7 = conv2d(conv_dim*8, conv_dim*8).cuda()\n",
    "conv8 = conv2d(conv_dim*8, conv_dim*8).cuda()\n",
    "\n",
    "e1 = conv1(source)\n",
    "encode_layers['e1'] = e1\n",
    "e2 = conv2(e1)\n",
    "encode_layers['e2'] = e2\n",
    "e3 = conv3(e2)\n",
    "encode_layers['e3'] = e3\n",
    "e4 = conv4(e3)\n",
    "encode_layers['e4'] = e4\n",
    "e5 = conv5(e4)\n",
    "encode_layers['e5'] = e5\n",
    "e6 = conv6(e5)\n",
    "encode_layers['e6'] = e6\n",
    "e7 = conv7(e6)\n",
    "encode_layers['e7'] = e7\n",
    "encoded_source = conv8(e7)\n",
    "encode_layers['e8'] = encoded_source"
   ]
  },
  {
   "cell_type": "code",
   "execution_count": 9,
   "metadata": {},
   "outputs": [
    {
     "name": "stdout",
     "output_type": "stream",
     "text": [
      "source shape:\t torch.Size([32, 1, 128, 128])\n",
      "e1 shape:\t torch.Size([32, 64, 64, 64])\n",
      "e2 shape:\t torch.Size([32, 128, 32, 32])\n",
      "e3 shape:\t torch.Size([32, 256, 16, 16])\n",
      "e4 shape:\t torch.Size([32, 512, 8, 8])\n",
      "e5 shape:\t torch.Size([32, 512, 4, 4])\n",
      "e6 shape:\t torch.Size([32, 512, 2, 2])\n",
      "e7 shape:\t torch.Size([32, 512, 1, 1])\n",
      "encoded shape:\t torch.Size([32, 512, 1, 1])\n"
     ]
    }
   ],
   "source": [
    "print(\"source shape:\\t\", source.shape)\n",
    "print(\"e1 shape:\\t\", e1.shape)\n",
    "print(\"e2 shape:\\t\", e2.shape)\n",
    "print(\"e3 shape:\\t\", e3.shape)\n",
    "print(\"e4 shape:\\t\", e4.shape)\n",
    "print(\"e5 shape:\\t\", e5.shape)\n",
    "print(\"e6 shape:\\t\", e6.shape)\n",
    "print(\"e7 shape:\\t\", e7.shape)\n",
    "print(\"encoded shape:\\t\", encoded_source.shape)"
   ]
  },
  {
   "cell_type": "code",
   "execution_count": 10,
   "metadata": {},
   "outputs": [
    {
     "data": {
      "text/plain": [
       "device(type='cuda', index=0)"
      ]
     },
     "execution_count": 10,
     "metadata": {},
     "output_type": "execute_result"
    }
   ],
   "source": [
    "encoded_source.device"
   ]
  },
  {
   "cell_type": "markdown",
   "metadata": {},
   "source": [
    "### Encoded source + embedding"
   ]
  },
  {
   "cell_type": "code",
   "execution_count": 11,
   "metadata": {},
   "outputs": [
    {
     "data": {
      "text/plain": [
       "torch.Size([100, 1, 1, 128])"
      ]
     },
     "execution_count": 11,
     "metadata": {},
     "output_type": "execute_result"
    }
   ],
   "source": [
    "embeddings = torch.load(os.path.join(fixed_dir, 'EMBEDDINGS.pkl')).cuda()\n",
    "embeddings.shape"
   ]
  },
  {
   "cell_type": "code",
   "execution_count": 12,
   "metadata": {},
   "outputs": [
    {
     "data": {
      "text/plain": [
       "torch.Size([32, 128, 1, 1])"
      ]
     },
     "execution_count": 12,
     "metadata": {},
     "output_type": "execute_result"
    }
   ],
   "source": [
    "local_embeddings = embedding_lookup(embeddings, label, GPU=GPU)\n",
    "local_embeddings.shape"
   ]
  },
  {
   "cell_type": "code",
   "execution_count": 13,
   "metadata": {},
   "outputs": [
    {
     "data": {
      "text/plain": [
       "device(type='cuda', index=0)"
      ]
     },
     "execution_count": 13,
     "metadata": {},
     "output_type": "execute_result"
    }
   ],
   "source": [
    "local_embeddings.device"
   ]
  },
  {
   "cell_type": "code",
   "execution_count": 14,
   "metadata": {},
   "outputs": [
    {
     "data": {
      "text/plain": [
       "torch.Size([32, 640, 1, 1])"
      ]
     },
     "execution_count": 14,
     "metadata": {},
     "output_type": "execute_result"
    }
   ],
   "source": [
    "embedded = torch.cat((encoded_source, local_embeddings), 1)\n",
    "embedded.shape"
   ]
  },
  {
   "cell_type": "markdown",
   "metadata": {},
   "source": [
    "### Decoder"
   ]
  },
  {
   "cell_type": "code",
   "execution_count": 15,
   "metadata": {},
   "outputs": [],
   "source": [
    "img_dim = 1\n",
    "embedded_dim = 640\n",
    "conv_dim = 64\n",
    "\n",
    "deconv1 = deconv2d(embedded_dim, conv_dim*8, dropout=True).cuda()\n",
    "deconv2 = deconv2d(conv_dim*16, conv_dim*8, dropout=True, k_size=4).cuda()\n",
    "deconv3 = deconv2d(conv_dim*16, conv_dim*8, k_size=5, dilation=2, dropout=True).cuda()\n",
    "deconv4 = deconv2d(conv_dim*16, conv_dim*8, k_size=4, dilation=2, stride=2).cuda()\n",
    "deconv5 = deconv2d(conv_dim*16, conv_dim*4, k_size=4, dilation=2, stride=2).cuda()\n",
    "deconv6 = deconv2d(conv_dim*8, conv_dim*2, k_size=4, dilation=2, stride=2).cuda()\n",
    "deconv7 = deconv2d(conv_dim*4, conv_dim*1, k_size=4, dilation=2, stride=2).cuda()\n",
    "deconv8 = deconv2d(conv_dim*2, img_dim, k_size=4, dilation=2, stride=2, bn=False).cuda()\n",
    "\n",
    "d1 = deconv1(embedded)\n",
    "d1 = torch.cat((d1, encode_layers['e7']), dim=1)\n",
    "d2 = deconv2(d1)\n",
    "d2 = torch.cat((d2, encode_layers['e6']), dim=1)\n",
    "d3 = deconv3(d2)\n",
    "d3 = torch.cat((d3, encode_layers['e5']), dim=1)\n",
    "d4 = deconv4(d3)\n",
    "d4 = torch.cat((d4, encode_layers['e4']), dim=1)\n",
    "d5 = deconv5(d4)\n",
    "d5 = torch.cat((d5, encode_layers['e3']), dim=1)\n",
    "d6 = deconv6(d5)\n",
    "d6 = torch.cat((d6, encode_layers['e2']), dim=1)\n",
    "d7 = deconv7(d6)\n",
    "d7 = torch.cat((d7, encode_layers['e1']), dim=1)\n",
    "d8 = deconv8(d7)\n",
    "fake_target = torch.tanh(d8)"
   ]
  },
  {
   "cell_type": "code",
   "execution_count": 16,
   "metadata": {},
   "outputs": [
    {
     "name": "stdout",
     "output_type": "stream",
     "text": [
      "embedded shape:\t torch.Size([32, 640, 1, 1])\n",
      "d1 shape:\t torch.Size([32, 1024, 1, 1])\n",
      "concat d1:\t torch.Size([32, 1024, 1, 1])\n",
      "d2 shape:\t torch.Size([32, 1024, 2, 2])\n",
      "concat d2:\t torch.Size([32, 1024, 2, 2])\n",
      "d3 shape:\t torch.Size([32, 1024, 4, 4])\n",
      "concat d3:\t torch.Size([32, 1024, 4, 4])\n",
      "d4 shape:\t torch.Size([32, 1024, 8, 8])\n",
      "concat d4:\t torch.Size([32, 1024, 8, 8])\n",
      "d5 shape:\t torch.Size([32, 512, 16, 16])\n",
      "concat d5:\t torch.Size([32, 512, 16, 16])\n",
      "d6 shape:\t torch.Size([32, 256, 32, 32])\n",
      "concat d6:\t torch.Size([32, 256, 32, 32])\n",
      "d7 shape:\t torch.Size([32, 128, 64, 64])\n",
      "concat d7:\t torch.Size([32, 128, 64, 64])\n",
      "d8 shape:\t torch.Size([32, 1, 128, 128])\n"
     ]
    }
   ],
   "source": [
    "print(\"embedded shape:\\t\", embedded.shape)\n",
    "print(\"d1 shape:\\t\", d1.shape)\n",
    "print(\"concat d1:\\t\", d1.shape)\n",
    "print(\"d2 shape:\\t\", d2.shape)\n",
    "print(\"concat d2:\\t\", d2.shape)\n",
    "print(\"d3 shape:\\t\", d3.shape)\n",
    "print(\"concat d3:\\t\", d3.shape)\n",
    "print(\"d4 shape:\\t\", d4.shape)\n",
    "print(\"concat d4:\\t\", d4.shape)\n",
    "print(\"d5 shape:\\t\", d5.shape)\n",
    "print(\"concat d5:\\t\", d5.shape)\n",
    "print(\"d6 shape:\\t\", d6.shape)\n",
    "print(\"concat d6:\\t\", d6.shape)\n",
    "print(\"d7 shape:\\t\", d7.shape)\n",
    "print(\"concat d7:\\t\", d7.shape)\n",
    "print(\"d8 shape:\\t\", d8.shape)"
   ]
  },
  {
   "cell_type": "markdown",
   "metadata": {},
   "source": [
    "### Generator "
   ]
  },
  {
   "cell_type": "code",
   "execution_count": 17,
   "metadata": {},
   "outputs": [
    {
     "name": "stdout",
     "output_type": "stream",
     "text": [
      "fake_image shape: torch.Size([32, 1, 128, 128])\n",
      "encoded_source shape: torch.Size([32, 512, 1, 1])\n"
     ]
    }
   ],
   "source": [
    "En = Encoder().cuda()\n",
    "De = Decoder().cuda()\n",
    "\n",
    "fake_image, encoded_source = Generator(source, En, De, embeddings, label, GPU=GPU)\n",
    "print(\"fake_image shape:\", fake_image.shape)\n",
    "print(\"encoded_source shape:\", encoded_source.shape)"
   ]
  },
  {
   "cell_type": "markdown",
   "metadata": {},
   "source": [
    "### Discriminator"
   ]
  },
  {
   "cell_type": "code",
   "execution_count": 18,
   "metadata": {},
   "outputs": [
    {
     "data": {
      "text/plain": [
       "(torch.Size([32, 2, 128, 128]), torch.Size([32, 2, 128, 128]))"
      ]
     },
     "execution_count": 18,
     "metadata": {},
     "output_type": "execute_result"
    }
   ],
   "source": [
    "real_TS = torch.cat([source, target], dim=1).cuda()\n",
    "fake_TS = torch.cat([source, fake_image], dim=1).cuda()\n",
    "real_TS.shape, fake_TS.shape"
   ]
  },
  {
   "cell_type": "code",
   "execution_count": 19,
   "metadata": {},
   "outputs": [],
   "source": [
    "img_dim = 2\n",
    "disc_dim = 64\n",
    "category_num = 25\n",
    "\n",
    "conv1 = conv2d(img_dim, disc_dim, bn=False).cuda()\n",
    "conv2 = conv2d(disc_dim, disc_dim*2).cuda()\n",
    "conv3 = conv2d(disc_dim*2, disc_dim*4).cuda()\n",
    "conv4 = conv2d(disc_dim*4, disc_dim*8).cuda()\n",
    "fc1 = fc(disc_dim*8*8*8, 1).cuda()\n",
    "fc2 = fc(disc_dim*8*8*8, category_num).cuda()"
   ]
  },
  {
   "cell_type": "code",
   "execution_count": 20,
   "metadata": {},
   "outputs": [
    {
     "name": "stdout",
     "output_type": "stream",
     "text": [
      "batch_size:\t 32\n",
      "trg & src :\t torch.Size([32, 2, 128, 128])\n",
      "h1 shape:\t torch.Size([32, 64, 64, 64])\n",
      "h2 shape:\t torch.Size([32, 128, 32, 32])\n",
      "h3 shape:\t torch.Size([32, 256, 16, 16])\n",
      "h4 shape:\t torch.Size([32, 512, 8, 8])\n",
      "tf_loss shape:\t torch.Size([32, 1])\n",
      "cat_loss shape:\t torch.Size([32, 25])\n"
     ]
    }
   ],
   "source": [
    "batch_size = real_TS.shape[0]\n",
    "print(\"batch_size:\\t\", batch_size)\n",
    "\n",
    "print(\"trg & src :\\t\", real_TS.shape)\n",
    "h1 = conv1(real_TS)\n",
    "print(\"h1 shape:\\t\", h1.shape)\n",
    "h2 = conv2(h1).cuda()\n",
    "print(\"h2 shape:\\t\", h2.shape)\n",
    "h3 = conv3(h2).cuda()\n",
    "print(\"h3 shape:\\t\", h3.shape)\n",
    "h4 = conv4(h3).cuda()\n",
    "print(\"h4 shape:\\t\", h4.shape)\n",
    "\n",
    "tf_loss_logit = fc1(h4.reshape(batch_size, -1))\n",
    "tf_loss = torch.sigmoid(tf_loss_logit)\n",
    "print(\"tf_loss shape:\\t\", tf_loss.shape)\n",
    "cat_loss = fc2(h4.reshape(batch_size, -1))\n",
    "print(\"cat_loss shape:\\t\", cat_loss.shape)"
   ]
  },
  {
   "cell_type": "code",
   "execution_count": 21,
   "metadata": {},
   "outputs": [
    {
     "data": {
      "text/plain": [
       "(torch.Size([32, 1]), torch.Size([32, 1]), torch.Size([32, 25]))"
      ]
     },
     "execution_count": 21,
     "metadata": {},
     "output_type": "execute_result"
    }
   ],
   "source": [
    "D = Discriminator(category_num=25).cuda()\n",
    "\n",
    "tf_loss, tf_loss_logit, cat_loss = D(real_TS)\n",
    "tf_loss.shape, tf_loss_logit.shape, cat_loss.shape"
   ]
  }
 ],
 "metadata": {
  "kernelspec": {
   "display_name": "Python 3",
   "language": "python",
   "name": "python3"
  },
  "language_info": {
   "codemirror_mode": {
    "name": "ipython",
    "version": 3
   },
   "file_extension": ".py",
   "mimetype": "text/x-python",
   "name": "python",
   "nbconvert_exporter": "python",
   "pygments_lexer": "ipython3",
   "version": "3.5.2"
  }
 },
 "nbformat": 4,
 "nbformat_minor": 2
}
