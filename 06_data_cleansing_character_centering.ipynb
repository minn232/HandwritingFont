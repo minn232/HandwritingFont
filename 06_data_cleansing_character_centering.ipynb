{
 "cells": [
  {
   "cell_type": "code",
   "execution_count": 7,
   "metadata": {},
   "outputs": [],
   "source": [
    "import glob, os\n",
    "\n",
    "TRG_PATH = './get_data/fonts/target/'\n",
    "trg_fonts = glob.glob(os.path.join(TRG_PATH, '*.ttf'))"
   ]
  },
  {
   "cell_type": "code",
   "execution_count": 8,
   "metadata": {},
   "outputs": [],
   "source": [
    "trg_fonts.sort()"
   ]
  },
  {
   "cell_type": "code",
   "execution_count": 9,
   "metadata": {
    "scrolled": true
   },
   "outputs": [
    {
     "data": {
      "text/plain": [
       "['./get_data/fonts/target/01.ttf',\n",
       " './get_data/fonts/target/02.ttf',\n",
       " './get_data/fonts/target/03.ttf',\n",
       " './get_data/fonts/target/04.ttf',\n",
       " './get_data/fonts/target/05.ttf',\n",
       " './get_data/fonts/target/06.ttf',\n",
       " './get_data/fonts/target/07.ttf',\n",
       " './get_data/fonts/target/08.ttf',\n",
       " './get_data/fonts/target/09.ttf',\n",
       " './get_data/fonts/target/10.ttf',\n",
       " './get_data/fonts/target/11.ttf',\n",
       " './get_data/fonts/target/12.ttf',\n",
       " './get_data/fonts/target/13.ttf',\n",
       " './get_data/fonts/target/14.ttf',\n",
       " './get_data/fonts/target/15.ttf',\n",
       " './get_data/fonts/target/16.ttf',\n",
       " './get_data/fonts/target/17.ttf',\n",
       " './get_data/fonts/target/18.ttf',\n",
       " './get_data/fonts/target/19.ttf',\n",
       " './get_data/fonts/target/20.ttf',\n",
       " './get_data/fonts/target/21.ttf',\n",
       " './get_data/fonts/target/22.ttf',\n",
       " './get_data/fonts/target/23.ttf',\n",
       " './get_data/fonts/target/24.ttf',\n",
       " './get_data/fonts/target/25.ttf',\n",
       " './get_data/fonts/target/26.ttf',\n",
       " './get_data/fonts/target/27.ttf',\n",
       " './get_data/fonts/target/28.ttf',\n",
       " './get_data/fonts/target/29.ttf',\n",
       " './get_data/fonts/target/30.ttf',\n",
       " './get_data/fonts/target/31.ttf',\n",
       " './get_data/fonts/target/32.ttf',\n",
       " './get_data/fonts/target/33.ttf',\n",
       " './get_data/fonts/target/34.ttf',\n",
       " './get_data/fonts/target/35.ttf',\n",
       " './get_data/fonts/target/36.ttf',\n",
       " './get_data/fonts/target/37.ttf',\n",
       " './get_data/fonts/target/38.ttf',\n",
       " './get_data/fonts/target/39.ttf',\n",
       " './get_data/fonts/target/40.ttf',\n",
       " './get_data/fonts/target/41.ttf',\n",
       " './get_data/fonts/target/42.ttf',\n",
       " './get_data/fonts/target/43.ttf',\n",
       " './get_data/fonts/target/44.ttf',\n",
       " './get_data/fonts/target/45.ttf',\n",
       " './get_data/fonts/target/46.ttf']"
      ]
     },
     "execution_count": 9,
     "metadata": {},
     "output_type": "execute_result"
    }
   ],
   "source": [
    "trg_fonts"
   ]
  },
  {
   "cell_type": "code",
   "execution_count": 11,
   "metadata": {},
   "outputs": [],
   "source": [
    "!rm -rf ./get_data/output"
   ]
  },
  {
   "cell_type": "code",
   "execution_count": null,
   "metadata": {},
   "outputs": [],
   "source": []
  }
 ],
 "metadata": {
  "kernelspec": {
   "display_name": "Python 3",
   "language": "python",
   "name": "python3"
  },
  "language_info": {
   "codemirror_mode": {
    "name": "ipython",
    "version": 3
   },
   "file_extension": ".py",
   "mimetype": "text/x-python",
   "name": "python",
   "nbconvert_exporter": "python",
   "pygments_lexer": "ipython3",
   "version": "3.7.0"
  }
 },
 "nbformat": 4,
 "nbformat_minor": 2
}
